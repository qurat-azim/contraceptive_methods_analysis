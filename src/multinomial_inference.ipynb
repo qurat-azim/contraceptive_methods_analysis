{
 "cells": [
  {
   "cell_type": "markdown",
   "id": "0ef99135-a290-4d31-b722-2eb4a5789ccc",
   "metadata": {},
   "source": [
    "# Inferential Analysis with Multinomial Logistic Regression"
   ]
  },
  {
   "cell_type": "markdown",
   "id": "f6d95502-de20-4119-9e5b-c6f65554ad12",
   "metadata": {},
   "source": [
    "### Imports"
   ]
  },
  {
   "cell_type": "code",
   "execution_count": 1,
   "id": "714eb430-111c-4fb5-8dbb-29b99e6e53d5",
   "metadata": {},
   "outputs": [
    {
     "name": "stderr",
     "output_type": "stream",
     "text": [
      "Loading required package: stats4\n",
      "\n",
      "Loading required package: splines\n",
      "\n",
      "── \u001b[1mAttaching packages\u001b[22m ─────────────────────────────────────── tidyverse 1.3.2 ──\n",
      "\u001b[32m✔\u001b[39m \u001b[34mggplot2\u001b[39m 3.4.0     \u001b[32m✔\u001b[39m \u001b[34mpurrr  \u001b[39m 1.0.1\n",
      "\u001b[32m✔\u001b[39m \u001b[34mtibble \u001b[39m 3.1.8     \u001b[32m✔\u001b[39m \u001b[34mdplyr  \u001b[39m 1.1.0\n",
      "\u001b[32m✔\u001b[39m \u001b[34mtidyr  \u001b[39m 1.3.0     \u001b[32m✔\u001b[39m \u001b[34mstringr\u001b[39m 1.5.0\n",
      "\u001b[32m✔\u001b[39m \u001b[34mreadr  \u001b[39m 2.1.3     \u001b[32m✔\u001b[39m \u001b[34mforcats\u001b[39m 0.5.2\n",
      "── \u001b[1mConflicts\u001b[22m ────────────────────────────────────────── tidyverse_conflicts() ──\n",
      "\u001b[31m✖\u001b[39m \u001b[34mdplyr\u001b[39m::\u001b[32mfilter()\u001b[39m masks \u001b[34mstats\u001b[39m::filter()\n",
      "\u001b[31m✖\u001b[39m \u001b[34mdplyr\u001b[39m::\u001b[32mlag()\u001b[39m    masks \u001b[34mstats\u001b[39m::lag()\n",
      "\n",
      "Attaching package: ‘scales’\n",
      "\n",
      "\n",
      "The following object is masked from ‘package:purrr’:\n",
      "\n",
      "    discard\n",
      "\n",
      "\n",
      "The following object is masked from ‘package:readr’:\n",
      "\n",
      "    col_factor\n",
      "\n",
      "\n",
      "\n",
      "Attaching package: ‘MASS’\n",
      "\n",
      "\n",
      "The following object is masked from ‘package:dplyr’:\n",
      "\n",
      "    select\n",
      "\n",
      "\n"
     ]
    }
   ],
   "source": [
    "options(repr.matrix.max.rows = 6)\n",
    "library(VGAM)\n",
    "library(cowplot)\n",
    "library(tidyverse)\n",
    "library(broom)\n",
    "library(scales)\n",
    "library(foreign)\n",
    "library(MASS)\n",
    "library(dplyr)"
   ]
  },
  {
   "cell_type": "code",
   "execution_count": 2,
   "id": "0fbc42cf-d605-4c97-8065-7477b9bc3161",
   "metadata": {},
   "outputs": [],
   "source": [
    "# function to see tidy outputs for GLM\n",
    "\n",
    "tidy.vglm <- function(x, conf.int=FALSE, conf.level=0.95) {\n",
    "    co <- as.data.frame(coef(summary(x)))\n",
    "    names(co) <- c(\"estimate\",\"std.error\",\"statistic\",\"p.value\")\n",
    "    if (conf.int) {\n",
    "        qq <- qnorm((1+conf.level)/2)\n",
    "        co <- transform(co,\n",
    "                        conf.low=estimate-qq*std.error,\n",
    "                        conf.high=estimate+qq*std.error)\n",
    "    }\n",
    "    co <- data.frame(term=rownames(co),co)\n",
    "    rownames(co) <- NULL\n",
    "    return(co)\n",
    "}"
   ]
  },
  {
   "cell_type": "markdown",
   "id": "82740e1e-a072-48de-980d-0a73ab09e798",
   "metadata": {},
   "source": [
    "### Loading Data"
   ]
  },
  {
   "cell_type": "code",
   "execution_count": 3,
   "id": "9e7846cf-e543-4e85-8939-e31c07117e3b",
   "metadata": {},
   "outputs": [
    {
     "data": {
      "text/html": [
       "<table class=\"dataframe\">\n",
       "<caption>A tibble: 6 × 10</caption>\n",
       "<thead>\n",
       "\t<tr><th scope=col>age</th><th scope=col>education</th><th scope=col>spouse_education</th><th scope=col>children</th><th scope=col>religion</th><th scope=col>work</th><th scope=col>spouse_occupation</th><th scope=col>living_standard</th><th scope=col>media_exposure</th><th scope=col>contraceptive_method</th></tr>\n",
       "\t<tr><th scope=col>&lt;dbl&gt;</th><th scope=col>&lt;dbl&gt;</th><th scope=col>&lt;dbl&gt;</th><th scope=col>&lt;dbl&gt;</th><th scope=col>&lt;dbl&gt;</th><th scope=col>&lt;dbl&gt;</th><th scope=col>&lt;dbl&gt;</th><th scope=col>&lt;dbl&gt;</th><th scope=col>&lt;dbl&gt;</th><th scope=col>&lt;dbl&gt;</th></tr>\n",
       "</thead>\n",
       "<tbody>\n",
       "\t<tr><td>24</td><td>2</td><td>3</td><td> 3</td><td>1</td><td>1</td><td>2</td><td>3</td><td>0</td><td>1</td></tr>\n",
       "\t<tr><td>45</td><td>1</td><td>3</td><td>10</td><td>1</td><td>1</td><td>3</td><td>4</td><td>0</td><td>1</td></tr>\n",
       "\t<tr><td>43</td><td>2</td><td>3</td><td> 7</td><td>1</td><td>1</td><td>3</td><td>4</td><td>0</td><td>1</td></tr>\n",
       "\t<tr><td>42</td><td>3</td><td>2</td><td> 9</td><td>1</td><td>1</td><td>3</td><td>3</td><td>0</td><td>1</td></tr>\n",
       "\t<tr><td>36</td><td>3</td><td>3</td><td> 8</td><td>1</td><td>1</td><td>3</td><td>2</td><td>0</td><td>1</td></tr>\n",
       "\t<tr><td>19</td><td>4</td><td>4</td><td> 0</td><td>1</td><td>1</td><td>3</td><td>3</td><td>0</td><td>1</td></tr>\n",
       "</tbody>\n",
       "</table>\n"
      ],
      "text/latex": [
       "A tibble: 6 × 10\n",
       "\\begin{tabular}{llllllllll}\n",
       " age & education & spouse\\_education & children & religion & work & spouse\\_occupation & living\\_standard & media\\_exposure & contraceptive\\_method\\\\\n",
       " <dbl> & <dbl> & <dbl> & <dbl> & <dbl> & <dbl> & <dbl> & <dbl> & <dbl> & <dbl>\\\\\n",
       "\\hline\n",
       "\t 24 & 2 & 3 &  3 & 1 & 1 & 2 & 3 & 0 & 1\\\\\n",
       "\t 45 & 1 & 3 & 10 & 1 & 1 & 3 & 4 & 0 & 1\\\\\n",
       "\t 43 & 2 & 3 &  7 & 1 & 1 & 3 & 4 & 0 & 1\\\\\n",
       "\t 42 & 3 & 2 &  9 & 1 & 1 & 3 & 3 & 0 & 1\\\\\n",
       "\t 36 & 3 & 3 &  8 & 1 & 1 & 3 & 2 & 0 & 1\\\\\n",
       "\t 19 & 4 & 4 &  0 & 1 & 1 & 3 & 3 & 0 & 1\\\\\n",
       "\\end{tabular}\n"
      ],
      "text/markdown": [
       "\n",
       "A tibble: 6 × 10\n",
       "\n",
       "| age &lt;dbl&gt; | education &lt;dbl&gt; | spouse_education &lt;dbl&gt; | children &lt;dbl&gt; | religion &lt;dbl&gt; | work &lt;dbl&gt; | spouse_occupation &lt;dbl&gt; | living_standard &lt;dbl&gt; | media_exposure &lt;dbl&gt; | contraceptive_method &lt;dbl&gt; |\n",
       "|---|---|---|---|---|---|---|---|---|---|\n",
       "| 24 | 2 | 3 |  3 | 1 | 1 | 2 | 3 | 0 | 1 |\n",
       "| 45 | 1 | 3 | 10 | 1 | 1 | 3 | 4 | 0 | 1 |\n",
       "| 43 | 2 | 3 |  7 | 1 | 1 | 3 | 4 | 0 | 1 |\n",
       "| 42 | 3 | 2 |  9 | 1 | 1 | 3 | 3 | 0 | 1 |\n",
       "| 36 | 3 | 3 |  8 | 1 | 1 | 3 | 2 | 0 | 1 |\n",
       "| 19 | 4 | 4 |  0 | 1 | 1 | 3 | 3 | 0 | 1 |\n",
       "\n"
      ],
      "text/plain": [
       "  age education spouse_education children religion work spouse_occupation\n",
       "1 24  2         3                 3       1        1    2                \n",
       "2 45  1         3                10       1        1    3                \n",
       "3 43  2         3                 7       1        1    3                \n",
       "4 42  3         2                 9       1        1    3                \n",
       "5 36  3         3                 8       1        1    3                \n",
       "6 19  4         4                 0       1        1    3                \n",
       "  living_standard media_exposure contraceptive_method\n",
       "1 3               0              1                   \n",
       "2 4               0              1                   \n",
       "3 4               0              1                   \n",
       "4 3               0              1                   \n",
       "5 2               0              1                   \n",
       "6 3               0              1                   "
      ]
     },
     "metadata": {},
     "output_type": "display_data"
    }
   ],
   "source": [
    "# Load the data\n",
    "df <- suppressMessages(read_csv(\"../data/processed/data.csv\"))\n",
    "df <- df[,-1]\n",
    "head(df)\n"
   ]
  },
  {
   "cell_type": "markdown",
   "id": "e10e0e6d-5c13-4609-99e2-90491f6dcad0",
   "metadata": {},
   "source": [
    "### Data Wrangling"
   ]
  },
  {
   "cell_type": "code",
   "execution_count": 4,
   "id": "081f5508-9577-414c-bc15-5503e59d25db",
   "metadata": {},
   "outputs": [
    {
     "data": {
      "text/html": [
       "<table class=\"dataframe\">\n",
       "<caption>A tibble: 6 × 10</caption>\n",
       "<thead>\n",
       "\t<tr><th scope=col>age</th><th scope=col>education</th><th scope=col>spouse_education</th><th scope=col>children</th><th scope=col>religion</th><th scope=col>work</th><th scope=col>spouse_occupation</th><th scope=col>living_standard</th><th scope=col>media_exposure</th><th scope=col>contraceptive_method</th></tr>\n",
       "\t<tr><th scope=col>&lt;dbl&gt;</th><th scope=col>&lt;fct&gt;</th><th scope=col>&lt;dbl&gt;</th><th scope=col>&lt;dbl&gt;</th><th scope=col>&lt;fct&gt;</th><th scope=col>&lt;fct&gt;</th><th scope=col>&lt;dbl&gt;</th><th scope=col>&lt;fct&gt;</th><th scope=col>&lt;fct&gt;</th><th scope=col>&lt;fct&gt;</th></tr>\n",
       "</thead>\n",
       "<tbody>\n",
       "\t<tr><td>24</td><td>2</td><td>3</td><td> 3</td><td>1</td><td>1</td><td>2</td><td>3</td><td>0</td><td>1</td></tr>\n",
       "\t<tr><td>45</td><td>1</td><td>3</td><td>10</td><td>1</td><td>1</td><td>3</td><td>4</td><td>0</td><td>1</td></tr>\n",
       "\t<tr><td>43</td><td>2</td><td>3</td><td> 7</td><td>1</td><td>1</td><td>3</td><td>4</td><td>0</td><td>1</td></tr>\n",
       "\t<tr><td>42</td><td>3</td><td>2</td><td> 9</td><td>1</td><td>1</td><td>3</td><td>3</td><td>0</td><td>1</td></tr>\n",
       "\t<tr><td>36</td><td>3</td><td>3</td><td> 8</td><td>1</td><td>1</td><td>3</td><td>2</td><td>0</td><td>1</td></tr>\n",
       "\t<tr><td>19</td><td>4</td><td>4</td><td> 0</td><td>1</td><td>1</td><td>3</td><td>3</td><td>0</td><td>1</td></tr>\n",
       "</tbody>\n",
       "</table>\n"
      ],
      "text/latex": [
       "A tibble: 6 × 10\n",
       "\\begin{tabular}{llllllllll}\n",
       " age & education & spouse\\_education & children & religion & work & spouse\\_occupation & living\\_standard & media\\_exposure & contraceptive\\_method\\\\\n",
       " <dbl> & <fct> & <dbl> & <dbl> & <fct> & <fct> & <dbl> & <fct> & <fct> & <fct>\\\\\n",
       "\\hline\n",
       "\t 24 & 2 & 3 &  3 & 1 & 1 & 2 & 3 & 0 & 1\\\\\n",
       "\t 45 & 1 & 3 & 10 & 1 & 1 & 3 & 4 & 0 & 1\\\\\n",
       "\t 43 & 2 & 3 &  7 & 1 & 1 & 3 & 4 & 0 & 1\\\\\n",
       "\t 42 & 3 & 2 &  9 & 1 & 1 & 3 & 3 & 0 & 1\\\\\n",
       "\t 36 & 3 & 3 &  8 & 1 & 1 & 3 & 2 & 0 & 1\\\\\n",
       "\t 19 & 4 & 4 &  0 & 1 & 1 & 3 & 3 & 0 & 1\\\\\n",
       "\\end{tabular}\n"
      ],
      "text/markdown": [
       "\n",
       "A tibble: 6 × 10\n",
       "\n",
       "| age &lt;dbl&gt; | education &lt;fct&gt; | spouse_education &lt;dbl&gt; | children &lt;dbl&gt; | religion &lt;fct&gt; | work &lt;fct&gt; | spouse_occupation &lt;dbl&gt; | living_standard &lt;fct&gt; | media_exposure &lt;fct&gt; | contraceptive_method &lt;fct&gt; |\n",
       "|---|---|---|---|---|---|---|---|---|---|\n",
       "| 24 | 2 | 3 |  3 | 1 | 1 | 2 | 3 | 0 | 1 |\n",
       "| 45 | 1 | 3 | 10 | 1 | 1 | 3 | 4 | 0 | 1 |\n",
       "| 43 | 2 | 3 |  7 | 1 | 1 | 3 | 4 | 0 | 1 |\n",
       "| 42 | 3 | 2 |  9 | 1 | 1 | 3 | 3 | 0 | 1 |\n",
       "| 36 | 3 | 3 |  8 | 1 | 1 | 3 | 2 | 0 | 1 |\n",
       "| 19 | 4 | 4 |  0 | 1 | 1 | 3 | 3 | 0 | 1 |\n",
       "\n"
      ],
      "text/plain": [
       "  age education spouse_education children religion work spouse_occupation\n",
       "1 24  2         3                 3       1        1    2                \n",
       "2 45  1         3                10       1        1    3                \n",
       "3 43  2         3                 7       1        1    3                \n",
       "4 42  3         2                 9       1        1    3                \n",
       "5 36  3         3                 8       1        1    3                \n",
       "6 19  4         4                 0       1        1    3                \n",
       "  living_standard media_exposure contraceptive_method\n",
       "1 3               0              1                   \n",
       "2 4               0              1                   \n",
       "3 4               0              1                   \n",
       "4 3               0              1                   \n",
       "5 2               0              1                   \n",
       "6 3               0              1                   "
      ]
     },
     "metadata": {},
     "output_type": "display_data"
    }
   ],
   "source": [
    "# encode variables properly\n",
    "\n",
    "df$contraceptive_method <- as.factor(df$contraceptive_method)\n",
    "df$education <- as.factor(df$education)\n",
    "df$living_standard <- as.factor(df$living_standard)\n",
    "df$work <- as.factor(df$work)\n",
    "df$media_exposure <- as.factor(df$media_exposure)\n",
    "df$religion <- as.factor(df$religion)\n",
    "\n",
    "head(df)"
   ]
  },
  {
   "cell_type": "code",
   "execution_count": 5,
   "id": "b2770d24-39e6-460a-ac1d-d1fe8dc76f11",
   "metadata": {},
   "outputs": [
    {
     "data": {
      "text/html": [
       "<style>\n",
       ".list-inline {list-style: none; margin:0; padding: 0}\n",
       ".list-inline>li {display: inline-block}\n",
       ".list-inline>li:not(:last-child)::after {content: \"\\00b7\"; padding: 0 .5ex}\n",
       "</style>\n",
       "<ol class=list-inline><li>'1'</li><li>'2'</li><li>'3'</li></ol>\n"
      ],
      "text/latex": [
       "\\begin{enumerate*}\n",
       "\\item '1'\n",
       "\\item '2'\n",
       "\\item '3'\n",
       "\\end{enumerate*}\n"
      ],
      "text/markdown": [
       "1. '1'\n",
       "2. '2'\n",
       "3. '3'\n",
       "\n",
       "\n"
      ],
      "text/plain": [
       "[1] \"1\" \"2\" \"3\""
      ]
     },
     "metadata": {},
     "output_type": "display_data"
    }
   ],
   "source": [
    "# check response levels\n",
    "levels(df$contraceptive_method)"
   ]
  },
  {
   "cell_type": "code",
   "execution_count": 6,
   "id": "1fb735a1-896b-4fc4-888a-1d28bbfc19f2",
   "metadata": {},
   "outputs": [
    {
     "data": {
      "text/html": [
       "<style>\n",
       ".list-inline {list-style: none; margin:0; padding: 0}\n",
       ".list-inline>li {display: inline-block}\n",
       ".list-inline>li:not(:last-child)::after {content: \"\\00b7\"; padding: 0 .5ex}\n",
       "</style>\n",
       "<ol class=list-inline><li>'3'</li><li>'2'</li><li>'1'</li></ol>\n"
      ],
      "text/latex": [
       "\\begin{enumerate*}\n",
       "\\item '3'\n",
       "\\item '2'\n",
       "\\item '1'\n",
       "\\end{enumerate*}\n"
      ],
      "text/markdown": [
       "1. '3'\n",
       "2. '2'\n",
       "3. '1'\n",
       "\n",
       "\n"
      ],
      "text/plain": [
       "[1] \"3\" \"2\" \"1\""
      ]
     },
     "metadata": {},
     "output_type": "display_data"
    }
   ],
   "source": [
    "df$contraceptive_method <- fct_relevel(df$contraceptive_method, c('3', '2', '1'))\n",
    "levels(df$contraceptive_method)"
   ]
  },
  {
   "cell_type": "markdown",
   "id": "80ef8520-9ead-4995-ac4f-002f65e1fb79",
   "metadata": {},
   "source": [
    "This means that `1` (no contraception) will be the reference level for our multinomial regression model. According to the data description, we have 1=No-use, 2=Long-term, 3=Short-term"
   ]
  },
  {
   "cell_type": "code",
   "execution_count": 7,
   "id": "22f269c1-22c7-4389-99ba-d6f2511003a7",
   "metadata": {},
   "outputs": [],
   "source": [
    "# encode response to make more comprehendable\n",
    "# df <- df |>\n",
    "#     mutate(contraceptive_method = case_when(\n",
    "#         contraceptive_method == \"1\" ~ \"No Use\",\n",
    "#         contraceptive_method == \"2\" ~ \"Long term\",\n",
    "#         contraceptive_method == \"3\" ~ \"Short term\"\n",
    "# ))\n",
    "# head(df)\n",
    "# tail(df)"
   ]
  },
  {
   "cell_type": "code",
   "execution_count": 8,
   "id": "196ea554-2dab-4016-9293-4bf49d66f1ed",
   "metadata": {},
   "outputs": [],
   "source": [
    "# check repsonse levels now\n",
    "# df$contraceptive_method <- as.factor(df$contraceptive_method)\n",
    "# levels(df$contraceptive_method)"
   ]
  },
  {
   "cell_type": "markdown",
   "id": "a9ae45b0-850d-48b2-a067-15031e1b4559",
   "metadata": {},
   "source": [
    "### Multinomial Logistic model - Simple regressions\n",
    "\n",
    "### `age`"
   ]
  },
  {
   "cell_type": "code",
   "execution_count": 9,
   "id": "ab00a227-edce-4766-9567-98aa846b65a3",
   "metadata": {},
   "outputs": [],
   "source": [
    "# define the model\n",
    "multinomial_model1 <- vglm(contraceptive_method ~ age, \n",
    "                           family = multinomial, \n",
    "                           data = df)"
   ]
  },
  {
   "cell_type": "code",
   "execution_count": 10,
   "id": "9538ffeb-b884-4b62-bd1e-ea34a0708f69",
   "metadata": {},
   "outputs": [
    {
     "data": {
      "text/html": [
       "<table class=\"dataframe\">\n",
       "<caption>A data.frame: 4 × 7</caption>\n",
       "<thead>\n",
       "\t<tr><th scope=col>term</th><th scope=col>estimate</th><th scope=col>std.error</th><th scope=col>statistic</th><th scope=col>p.value</th><th scope=col>conf.low</th><th scope=col>conf.high</th></tr>\n",
       "\t<tr><th scope=col>&lt;chr&gt;</th><th scope=col>&lt;dbl&gt;</th><th scope=col>&lt;dbl&gt;</th><th scope=col>&lt;dbl&gt;</th><th scope=col>&lt;dbl&gt;</th><th scope=col>&lt;dbl&gt;</th><th scope=col>&lt;dbl&gt;</th></tr>\n",
       "</thead>\n",
       "<tbody>\n",
       "\t<tr><td>(Intercept):1</td><td> 1.37442197</td><td>0.249142813</td><td> 5.516603</td><td>3.456151e-08</td><td> 0.886111032</td><td> 1.86273291</td></tr>\n",
       "\t<tr><td>(Intercept):2</td><td>-1.11451208</td><td>0.288155017</td><td>-3.867752</td><td>1.098434e-04</td><td>-1.679285534</td><td>-0.54973862</td></tr>\n",
       "\t<tr><td>age:1        </td><td>-0.04975766</td><td>0.007654227</td><td>-6.500678</td><td>7.995903e-11</td><td>-0.064759673</td><td>-0.03475565</td></tr>\n",
       "\t<tr><td>age:2        </td><td> 0.01411422</td><td>0.008224673</td><td> 1.716083</td><td>8.614693e-02</td><td>-0.002005845</td><td> 0.03023428</td></tr>\n",
       "</tbody>\n",
       "</table>\n"
      ],
      "text/latex": [
       "A data.frame: 4 × 7\n",
       "\\begin{tabular}{lllllll}\n",
       " term & estimate & std.error & statistic & p.value & conf.low & conf.high\\\\\n",
       " <chr> & <dbl> & <dbl> & <dbl> & <dbl> & <dbl> & <dbl>\\\\\n",
       "\\hline\n",
       "\t (Intercept):1 &  1.37442197 & 0.249142813 &  5.516603 & 3.456151e-08 &  0.886111032 &  1.86273291\\\\\n",
       "\t (Intercept):2 & -1.11451208 & 0.288155017 & -3.867752 & 1.098434e-04 & -1.679285534 & -0.54973862\\\\\n",
       "\t age:1         & -0.04975766 & 0.007654227 & -6.500678 & 7.995903e-11 & -0.064759673 & -0.03475565\\\\\n",
       "\t age:2         &  0.01411422 & 0.008224673 &  1.716083 & 8.614693e-02 & -0.002005845 &  0.03023428\\\\\n",
       "\\end{tabular}\n"
      ],
      "text/markdown": [
       "\n",
       "A data.frame: 4 × 7\n",
       "\n",
       "| term &lt;chr&gt; | estimate &lt;dbl&gt; | std.error &lt;dbl&gt; | statistic &lt;dbl&gt; | p.value &lt;dbl&gt; | conf.low &lt;dbl&gt; | conf.high &lt;dbl&gt; |\n",
       "|---|---|---|---|---|---|---|\n",
       "| (Intercept):1 |  1.37442197 | 0.249142813 |  5.516603 | 3.456151e-08 |  0.886111032 |  1.86273291 |\n",
       "| (Intercept):2 | -1.11451208 | 0.288155017 | -3.867752 | 1.098434e-04 | -1.679285534 | -0.54973862 |\n",
       "| age:1         | -0.04975766 | 0.007654227 | -6.500678 | 7.995903e-11 | -0.064759673 | -0.03475565 |\n",
       "| age:2         |  0.01411422 | 0.008224673 |  1.716083 | 8.614693e-02 | -0.002005845 |  0.03023428 |\n",
       "\n"
      ],
      "text/plain": [
       "  term          estimate    std.error   statistic p.value      conf.low    \n",
       "1 (Intercept):1  1.37442197 0.249142813  5.516603 3.456151e-08  0.886111032\n",
       "2 (Intercept):2 -1.11451208 0.288155017 -3.867752 1.098434e-04 -1.679285534\n",
       "3 age:1         -0.04975766 0.007654227 -6.500678 7.995903e-11 -0.064759673\n",
       "4 age:2          0.01411422 0.008224673  1.716083 8.614693e-02 -0.002005845\n",
       "  conf.high  \n",
       "1  1.86273291\n",
       "2 -0.54973862\n",
       "3 -0.03475565\n",
       "4  0.03023428"
      ]
     },
     "metadata": {},
     "output_type": "display_data"
    }
   ],
   "source": [
    "summary_multinomial_model1 <- tidy.vglm(multinomial_model1,\n",
    "  conf.int = TRUE, conf.level = 0.95\n",
    ") \n",
    "summary_multinomial_model1"
   ]
  },
  {
   "cell_type": "markdown",
   "id": "f3385515-6746-4f03-bc68-0ef1d9a5b0db",
   "metadata": {},
   "source": [
    "This shows that `age` is significantly associated with long term methods used at statistical significance level of 0.05 with $p<.001$. However, we do not have enough statistical evidence to associate `age` with short term contraceptive methods."
   ]
  },
  {
   "cell_type": "code",
   "execution_count": 11,
   "id": "70e3ce83-8053-49eb-9ccf-d0e66abeae1a",
   "metadata": {},
   "outputs": [
    {
     "data": {
      "text/html": [
       "<table class=\"dataframe\">\n",
       "<caption>A tibble: 1 × 3</caption>\n",
       "<thead>\n",
       "\t<tr><th scope=col>term</th><th scope=col>estimate</th><th scope=col>exp.estimate</th></tr>\n",
       "\t<tr><th scope=col>&lt;chr&gt;</th><th scope=col>&lt;dbl&gt;</th><th scope=col>&lt;dbl&gt;</th></tr>\n",
       "</thead>\n",
       "<tbody>\n",
       "\t<tr><td>age:1</td><td>-0.04975766</td><td>0.95</td></tr>\n",
       "</tbody>\n",
       "</table>\n"
      ],
      "text/latex": [
       "A tibble: 1 × 3\n",
       "\\begin{tabular}{lll}\n",
       " term & estimate & exp.estimate\\\\\n",
       " <chr> & <dbl> & <dbl>\\\\\n",
       "\\hline\n",
       "\t age:1 & -0.04975766 & 0.95\\\\\n",
       "\\end{tabular}\n"
      ],
      "text/markdown": [
       "\n",
       "A tibble: 1 × 3\n",
       "\n",
       "| term &lt;chr&gt; | estimate &lt;dbl&gt; | exp.estimate &lt;dbl&gt; |\n",
       "|---|---|---|\n",
       "| age:1 | -0.04975766 | 0.95 |\n",
       "\n"
      ],
      "text/plain": [
       "  term  estimate    exp.estimate\n",
       "1 age:1 -0.04975766 0.95        "
      ]
     },
     "metadata": {},
     "output_type": "display_data"
    }
   ],
   "source": [
    "tibble(summary_multinomial_model1[3, 1:2], exp.estimate = round(exp(summary_multinomial_model1[3, 2]), 2))"
   ]
  },
  {
   "cell_type": "markdown",
   "id": "d7b8613e-5ae0-4b74-850d-06ca0bd9959f",
   "metadata": {},
   "source": [
    "This means that with each year's increase in age, the woman is $\\frac{1}{0.95} = 1.05$ times more likely to use no contraceptive methods as opposed to long term contraception."
   ]
  },
  {
   "cell_type": "markdown",
   "id": "b40fe485-0b63-4ad2-89c3-ed1cde797aca",
   "metadata": {},
   "source": [
    "#### `children`"
   ]
  },
  {
   "cell_type": "code",
   "execution_count": 12,
   "id": "3949aa09-3da3-4d1e-99c8-b9d1b3fac038",
   "metadata": {},
   "outputs": [],
   "source": [
    "# define the model\n",
    "multinomial_model2 <- vglm(contraceptive_method ~ children, \n",
    "                           family = multinomial, \n",
    "                           data = df)"
   ]
  },
  {
   "cell_type": "code",
   "execution_count": 13,
   "id": "ab5adfdd-ff75-4529-bd82-ad32f806e898",
   "metadata": {},
   "outputs": [
    {
     "data": {
      "text/html": [
       "<table class=\"dataframe\">\n",
       "<caption>A data.frame: 4 × 7</caption>\n",
       "<thead>\n",
       "\t<tr><th scope=col>term</th><th scope=col>estimate</th><th scope=col>std.error</th><th scope=col>statistic</th><th scope=col>p.value</th><th scope=col>conf.low</th><th scope=col>conf.high</th></tr>\n",
       "\t<tr><th scope=col>&lt;chr&gt;</th><th scope=col>&lt;dbl&gt;</th><th scope=col>&lt;dbl&gt;</th><th scope=col>&lt;dbl&gt;</th><th scope=col>&lt;dbl&gt;</th><th scope=col>&lt;dbl&gt;</th><th scope=col>&lt;dbl&gt;</th></tr>\n",
       "</thead>\n",
       "<tbody>\n",
       "\t<tr><td>(Intercept):1</td><td>-0.46259001</td><td>0.10229255</td><td>-4.522226</td><td>6.119277e-06</td><td>-0.66307972</td><td>-0.2621003</td></tr>\n",
       "\t<tr><td>(Intercept):2</td><td>-1.11316315</td><td>0.11916411</td><td>-9.341430</td><td>9.504205e-21</td><td>-1.34672051</td><td>-0.8796058</td></tr>\n",
       "\t<tr><td>children:1   </td><td> 0.08124393</td><td>0.02639325</td><td> 3.078209</td><td>2.082487e-03</td><td> 0.02951412</td><td> 0.1329737</td></tr>\n",
       "\t<tr><td>children:2   </td><td> 0.14404812</td><td>0.02872997</td><td> 5.013863</td><td>5.334794e-07</td><td> 0.08773842</td><td> 0.2003578</td></tr>\n",
       "</tbody>\n",
       "</table>\n"
      ],
      "text/latex": [
       "A data.frame: 4 × 7\n",
       "\\begin{tabular}{lllllll}\n",
       " term & estimate & std.error & statistic & p.value & conf.low & conf.high\\\\\n",
       " <chr> & <dbl> & <dbl> & <dbl> & <dbl> & <dbl> & <dbl>\\\\\n",
       "\\hline\n",
       "\t (Intercept):1 & -0.46259001 & 0.10229255 & -4.522226 & 6.119277e-06 & -0.66307972 & -0.2621003\\\\\n",
       "\t (Intercept):2 & -1.11316315 & 0.11916411 & -9.341430 & 9.504205e-21 & -1.34672051 & -0.8796058\\\\\n",
       "\t children:1    &  0.08124393 & 0.02639325 &  3.078209 & 2.082487e-03 &  0.02951412 &  0.1329737\\\\\n",
       "\t children:2    &  0.14404812 & 0.02872997 &  5.013863 & 5.334794e-07 &  0.08773842 &  0.2003578\\\\\n",
       "\\end{tabular}\n"
      ],
      "text/markdown": [
       "\n",
       "A data.frame: 4 × 7\n",
       "\n",
       "| term &lt;chr&gt; | estimate &lt;dbl&gt; | std.error &lt;dbl&gt; | statistic &lt;dbl&gt; | p.value &lt;dbl&gt; | conf.low &lt;dbl&gt; | conf.high &lt;dbl&gt; |\n",
       "|---|---|---|---|---|---|---|\n",
       "| (Intercept):1 | -0.46259001 | 0.10229255 | -4.522226 | 6.119277e-06 | -0.66307972 | -0.2621003 |\n",
       "| (Intercept):2 | -1.11316315 | 0.11916411 | -9.341430 | 9.504205e-21 | -1.34672051 | -0.8796058 |\n",
       "| children:1    |  0.08124393 | 0.02639325 |  3.078209 | 2.082487e-03 |  0.02951412 |  0.1329737 |\n",
       "| children:2    |  0.14404812 | 0.02872997 |  5.013863 | 5.334794e-07 |  0.08773842 |  0.2003578 |\n",
       "\n"
      ],
      "text/plain": [
       "  term          estimate    std.error  statistic p.value      conf.low   \n",
       "1 (Intercept):1 -0.46259001 0.10229255 -4.522226 6.119277e-06 -0.66307972\n",
       "2 (Intercept):2 -1.11316315 0.11916411 -9.341430 9.504205e-21 -1.34672051\n",
       "3 children:1     0.08124393 0.02639325  3.078209 2.082487e-03  0.02951412\n",
       "4 children:2     0.14404812 0.02872997  5.013863 5.334794e-07  0.08773842\n",
       "  conf.high \n",
       "1 -0.2621003\n",
       "2 -0.8796058\n",
       "3  0.1329737\n",
       "4  0.2003578"
      ]
     },
     "metadata": {},
     "output_type": "display_data"
    }
   ],
   "source": [
    "summary_multinomial_model2 <- tidy.vglm(multinomial_model2,\n",
    "  conf.int = TRUE, conf.level = 0.95\n",
    ") \n",
    "summary_multinomial_model2"
   ]
  },
  {
   "cell_type": "markdown",
   "id": "e1d647b0-d13b-4d78-be14-d2f4902bc140",
   "metadata": {},
   "source": [
    "This means that the number of children is statistically associated with both long term and shot term contraceptive methods at a significance level of 0.05. "
   ]
  },
  {
   "cell_type": "code",
   "execution_count": 14,
   "id": "e01a5061-7a56-4168-bd98-20dceb228c42",
   "metadata": {},
   "outputs": [
    {
     "data": {
      "text/html": [
       "<table class=\"dataframe\">\n",
       "<caption>A tibble: 2 × 3</caption>\n",
       "<thead>\n",
       "\t<tr><th scope=col>term</th><th scope=col>estimate</th><th scope=col>exp.estimate</th></tr>\n",
       "\t<tr><th scope=col>&lt;chr&gt;</th><th scope=col>&lt;dbl&gt;</th><th scope=col>&lt;dbl&gt;</th></tr>\n",
       "</thead>\n",
       "<tbody>\n",
       "\t<tr><td>children:1</td><td>0.08124393</td><td>1.08</td></tr>\n",
       "\t<tr><td>children:2</td><td>0.14404812</td><td>1.15</td></tr>\n",
       "</tbody>\n",
       "</table>\n"
      ],
      "text/latex": [
       "A tibble: 2 × 3\n",
       "\\begin{tabular}{lll}\n",
       " term & estimate & exp.estimate\\\\\n",
       " <chr> & <dbl> & <dbl>\\\\\n",
       "\\hline\n",
       "\t children:1 & 0.08124393 & 1.08\\\\\n",
       "\t children:2 & 0.14404812 & 1.15\\\\\n",
       "\\end{tabular}\n"
      ],
      "text/markdown": [
       "\n",
       "A tibble: 2 × 3\n",
       "\n",
       "| term &lt;chr&gt; | estimate &lt;dbl&gt; | exp.estimate &lt;dbl&gt; |\n",
       "|---|---|---|\n",
       "| children:1 | 0.08124393 | 1.08 |\n",
       "| children:2 | 0.14404812 | 1.15 |\n",
       "\n"
      ],
      "text/plain": [
       "  term       estimate   exp.estimate\n",
       "1 children:1 0.08124393 1.08        \n",
       "2 children:2 0.14404812 1.15        "
      ]
     },
     "metadata": {},
     "output_type": "display_data"
    }
   ],
   "source": [
    "tibble(summary_multinomial_model2[3:4, 1:2], exp.estimate = round(exp(summary_multinomial_model2[3:4, 2]), 2))\n"
   ]
  },
  {
   "cell_type": "markdown",
   "id": "c4402f68-5d1e-48cf-bc1a-dea9086bbc14",
   "metadata": {},
   "source": [
    "This means that with a unit increase in the number of children, a woman is 1.08 times more likely to use long term contraception than no contraception and 1.15 times more likely to use short term contraception as opposed to no contraception"
   ]
  },
  {
   "cell_type": "markdown",
   "id": "420a147b-c514-4fa3-94bc-4ebed261b1d5",
   "metadata": {},
   "source": [
    "#### `religion`"
   ]
  },
  {
   "cell_type": "code",
   "execution_count": 15,
   "id": "5cd83fc5-07e8-4b2f-b529-c33cb916fd3d",
   "metadata": {},
   "outputs": [],
   "source": [
    "multinomial_model3 <- vglm(contraceptive_method ~ religion, \n",
    "                           family = multinomial, \n",
    "                           data = df)"
   ]
  },
  {
   "cell_type": "code",
   "execution_count": 16,
   "id": "49a48566-4a77-40f9-be0f-36b9aa5b6531",
   "metadata": {},
   "outputs": [
    {
     "data": {
      "text/html": [
       "<table class=\"dataframe\">\n",
       "<caption>A data.frame: 4 × 7</caption>\n",
       "<thead>\n",
       "\t<tr><th scope=col>term</th><th scope=col>estimate</th><th scope=col>std.error</th><th scope=col>statistic</th><th scope=col>p.value</th><th scope=col>conf.low</th><th scope=col>conf.high</th></tr>\n",
       "\t<tr><th scope=col>&lt;chr&gt;</th><th scope=col>&lt;dbl&gt;</th><th scope=col>&lt;dbl&gt;</th><th scope=col>&lt;dbl&gt;</th><th scope=col>&lt;dbl&gt;</th><th scope=col>&lt;dbl&gt;</th><th scope=col>&lt;dbl&gt;</th></tr>\n",
       "</thead>\n",
       "<tbody>\n",
       "\t<tr><td>(Intercept):1</td><td>-0.08338161</td><td>0.1668115</td><td>-0.49985519</td><td>6.171770e-01</td><td>-0.4103262</td><td> 0.2435630</td></tr>\n",
       "\t<tr><td>(Intercept):2</td><td> 0.01324523</td><td>0.1627613</td><td> 0.08137825</td><td>9.351411e-01</td><td>-0.3057610</td><td> 0.3322514</td></tr>\n",
       "\t<tr><td>religion1:1  </td><td>-0.14247320</td><td>0.1785878</td><td>-0.79777697</td><td>4.249999e-01</td><td>-0.4924988</td><td> 0.2075524</td></tr>\n",
       "\t<tr><td>religion1:2  </td><td>-0.78133383</td><td>0.1794083</td><td>-4.35506000</td><td>1.330305e-05</td><td>-1.1329676</td><td>-0.4297001</td></tr>\n",
       "</tbody>\n",
       "</table>\n"
      ],
      "text/latex": [
       "A data.frame: 4 × 7\n",
       "\\begin{tabular}{lllllll}\n",
       " term & estimate & std.error & statistic & p.value & conf.low & conf.high\\\\\n",
       " <chr> & <dbl> & <dbl> & <dbl> & <dbl> & <dbl> & <dbl>\\\\\n",
       "\\hline\n",
       "\t (Intercept):1 & -0.08338161 & 0.1668115 & -0.49985519 & 6.171770e-01 & -0.4103262 &  0.2435630\\\\\n",
       "\t (Intercept):2 &  0.01324523 & 0.1627613 &  0.08137825 & 9.351411e-01 & -0.3057610 &  0.3322514\\\\\n",
       "\t religion1:1   & -0.14247320 & 0.1785878 & -0.79777697 & 4.249999e-01 & -0.4924988 &  0.2075524\\\\\n",
       "\t religion1:2   & -0.78133383 & 0.1794083 & -4.35506000 & 1.330305e-05 & -1.1329676 & -0.4297001\\\\\n",
       "\\end{tabular}\n"
      ],
      "text/markdown": [
       "\n",
       "A data.frame: 4 × 7\n",
       "\n",
       "| term &lt;chr&gt; | estimate &lt;dbl&gt; | std.error &lt;dbl&gt; | statistic &lt;dbl&gt; | p.value &lt;dbl&gt; | conf.low &lt;dbl&gt; | conf.high &lt;dbl&gt; |\n",
       "|---|---|---|---|---|---|---|\n",
       "| (Intercept):1 | -0.08338161 | 0.1668115 | -0.49985519 | 6.171770e-01 | -0.4103262 |  0.2435630 |\n",
       "| (Intercept):2 |  0.01324523 | 0.1627613 |  0.08137825 | 9.351411e-01 | -0.3057610 |  0.3322514 |\n",
       "| religion1:1   | -0.14247320 | 0.1785878 | -0.79777697 | 4.249999e-01 | -0.4924988 |  0.2075524 |\n",
       "| religion1:2   | -0.78133383 | 0.1794083 | -4.35506000 | 1.330305e-05 | -1.1329676 | -0.4297001 |\n",
       "\n"
      ],
      "text/plain": [
       "  term          estimate    std.error statistic   p.value      conf.low  \n",
       "1 (Intercept):1 -0.08338161 0.1668115 -0.49985519 6.171770e-01 -0.4103262\n",
       "2 (Intercept):2  0.01324523 0.1627613  0.08137825 9.351411e-01 -0.3057610\n",
       "3 religion1:1   -0.14247320 0.1785878 -0.79777697 4.249999e-01 -0.4924988\n",
       "4 religion1:2   -0.78133383 0.1794083 -4.35506000 1.330305e-05 -1.1329676\n",
       "  conf.high \n",
       "1  0.2435630\n",
       "2  0.3322514\n",
       "3  0.2075524\n",
       "4 -0.4297001"
      ]
     },
     "metadata": {},
     "output_type": "display_data"
    }
   ],
   "source": [
    "summary_multinomial_model3 <- tidy.vglm(multinomial_model3,\n",
    "  conf.int = TRUE, conf.level = 0.95\n",
    ") \n",
    "summary_multinomial_model3"
   ]
  },
  {
   "cell_type": "markdown",
   "id": "7181e394-803e-4b66-b691-85043e813209",
   "metadata": {},
   "source": [
    "This shows statistical significance of only short term contraception with religion."
   ]
  },
  {
   "cell_type": "code",
   "execution_count": 17,
   "id": "bc68c964-929d-43d9-a136-2fa06f71ea1f",
   "metadata": {},
   "outputs": [
    {
     "data": {
      "text/html": [
       "<table class=\"dataframe\">\n",
       "<caption>A tibble: 1 × 3</caption>\n",
       "<thead>\n",
       "\t<tr><th scope=col>term</th><th scope=col>estimate</th><th scope=col>exp.estimate</th></tr>\n",
       "\t<tr><th scope=col>&lt;chr&gt;</th><th scope=col>&lt;dbl&gt;</th><th scope=col>&lt;dbl&gt;</th></tr>\n",
       "</thead>\n",
       "<tbody>\n",
       "\t<tr><td>religion1:1</td><td>-0.1424732</td><td>0.87</td></tr>\n",
       "</tbody>\n",
       "</table>\n"
      ],
      "text/latex": [
       "A tibble: 1 × 3\n",
       "\\begin{tabular}{lll}\n",
       " term & estimate & exp.estimate\\\\\n",
       " <chr> & <dbl> & <dbl>\\\\\n",
       "\\hline\n",
       "\t religion1:1 & -0.1424732 & 0.87\\\\\n",
       "\\end{tabular}\n"
      ],
      "text/markdown": [
       "\n",
       "A tibble: 1 × 3\n",
       "\n",
       "| term &lt;chr&gt; | estimate &lt;dbl&gt; | exp.estimate &lt;dbl&gt; |\n",
       "|---|---|---|\n",
       "| religion1:1 | -0.1424732 | 0.87 |\n",
       "\n"
      ],
      "text/plain": [
       "  term        estimate   exp.estimate\n",
       "1 religion1:1 -0.1424732 0.87        "
      ]
     },
     "metadata": {},
     "output_type": "display_data"
    }
   ],
   "source": [
    "tibble(summary_multinomial_model3[3, 1:2], exp.estimate = round(exp(summary_multinomial_model3[3, 2]), 2))\n"
   ]
  },
  {
   "cell_type": "markdown",
   "id": "2dbe0647-4597-4889-9761-83fc6a477256",
   "metadata": {},
   "source": [
    "This means that when the woman is Muslim, she is $\\frac{1}{0.87} = 1.15$ times more likely to use no contraception rather than short term contraception."
   ]
  },
  {
   "cell_type": "markdown",
   "id": "ea352b16-1d7d-4874-8547-131674e96873",
   "metadata": {},
   "source": [
    "#### `education`"
   ]
  },
  {
   "cell_type": "code",
   "execution_count": 18,
   "id": "2b696237-7db5-470c-bd03-7b99a006b677",
   "metadata": {},
   "outputs": [],
   "source": [
    "multinomial_model4 <- vglm(contraceptive_method ~ education, \n",
    "                           family = multinomial, \n",
    "                           data = df)"
   ]
  },
  {
   "cell_type": "code",
   "execution_count": 19,
   "id": "5071c01e-99c5-49f7-b799-91290764f5b6",
   "metadata": {},
   "outputs": [
    {
     "data": {
      "text/html": [
       "<table class=\"dataframe\">\n",
       "<caption>A data.frame: 6 × 7</caption>\n",
       "<thead>\n",
       "\t<tr><th></th><th scope=col>term</th><th scope=col>estimate</th><th scope=col>std.error</th><th scope=col>statistic</th><th scope=col>p.value</th><th scope=col>conf.low</th><th scope=col>conf.high</th></tr>\n",
       "\t<tr><th></th><th scope=col>&lt;chr&gt;</th><th scope=col>&lt;dbl&gt;</th><th scope=col>&lt;dbl&gt;</th><th scope=col>&lt;dbl&gt;</th><th scope=col>&lt;dbl&gt;</th><th scope=col>&lt;dbl&gt;</th><th scope=col>&lt;dbl&gt;</th></tr>\n",
       "</thead>\n",
       "<tbody>\n",
       "\t<tr><th scope=row>3</th><td>education2:1</td><td>0.5711561</td><td>0.2205790</td><td>2.589350</td><td>9.615734e-03</td><td>0.1388293</td><td>1.003483</td></tr>\n",
       "\t<tr><th scope=row>4</th><td>education2:2</td><td>0.8779383</td><td>0.3918238</td><td>2.240646</td><td>2.504903e-02</td><td>0.1099778</td><td>1.645899</td></tr>\n",
       "\t<tr><th scope=row>5</th><td>education3:1</td><td>0.8244887</td><td>0.2165056</td><td>3.808163</td><td>1.400032e-04</td><td>0.4001454</td><td>1.248832</td></tr>\n",
       "\t<tr><th scope=row>6</th><td>education3:2</td><td>1.6547451</td><td>0.3728691</td><td>4.437872</td><td>9.085274e-06</td><td>0.9239351</td><td>2.385555</td></tr>\n",
       "\t<tr><th scope=row>7</th><td>education4:1</td><td>1.0540631</td><td>0.2134275</td><td>4.938742</td><td>7.862831e-07</td><td>0.6357530</td><td>1.472373</td></tr>\n",
       "\t<tr><th scope=row>8</th><td>education4:2</td><td>2.6054372</td><td>0.3624393</td><td>7.188616</td><td>6.545113e-13</td><td>1.8950692</td><td>3.315805</td></tr>\n",
       "</tbody>\n",
       "</table>\n"
      ],
      "text/latex": [
       "A data.frame: 6 × 7\n",
       "\\begin{tabular}{r|lllllll}\n",
       "  & term & estimate & std.error & statistic & p.value & conf.low & conf.high\\\\\n",
       "  & <chr> & <dbl> & <dbl> & <dbl> & <dbl> & <dbl> & <dbl>\\\\\n",
       "\\hline\n",
       "\t3 & education2:1 & 0.5711561 & 0.2205790 & 2.589350 & 9.615734e-03 & 0.1388293 & 1.003483\\\\\n",
       "\t4 & education2:2 & 0.8779383 & 0.3918238 & 2.240646 & 2.504903e-02 & 0.1099778 & 1.645899\\\\\n",
       "\t5 & education3:1 & 0.8244887 & 0.2165056 & 3.808163 & 1.400032e-04 & 0.4001454 & 1.248832\\\\\n",
       "\t6 & education3:2 & 1.6547451 & 0.3728691 & 4.437872 & 9.085274e-06 & 0.9239351 & 2.385555\\\\\n",
       "\t7 & education4:1 & 1.0540631 & 0.2134275 & 4.938742 & 7.862831e-07 & 0.6357530 & 1.472373\\\\\n",
       "\t8 & education4:2 & 2.6054372 & 0.3624393 & 7.188616 & 6.545113e-13 & 1.8950692 & 3.315805\\\\\n",
       "\\end{tabular}\n"
      ],
      "text/markdown": [
       "\n",
       "A data.frame: 6 × 7\n",
       "\n",
       "| <!--/--> | term &lt;chr&gt; | estimate &lt;dbl&gt; | std.error &lt;dbl&gt; | statistic &lt;dbl&gt; | p.value &lt;dbl&gt; | conf.low &lt;dbl&gt; | conf.high &lt;dbl&gt; |\n",
       "|---|---|---|---|---|---|---|---|\n",
       "| 3 | education2:1 | 0.5711561 | 0.2205790 | 2.589350 | 9.615734e-03 | 0.1388293 | 1.003483 |\n",
       "| 4 | education2:2 | 0.8779383 | 0.3918238 | 2.240646 | 2.504903e-02 | 0.1099778 | 1.645899 |\n",
       "| 5 | education3:1 | 0.8244887 | 0.2165056 | 3.808163 | 1.400032e-04 | 0.4001454 | 1.248832 |\n",
       "| 6 | education3:2 | 1.6547451 | 0.3728691 | 4.437872 | 9.085274e-06 | 0.9239351 | 2.385555 |\n",
       "| 7 | education4:1 | 1.0540631 | 0.2134275 | 4.938742 | 7.862831e-07 | 0.6357530 | 1.472373 |\n",
       "| 8 | education4:2 | 2.6054372 | 0.3624393 | 7.188616 | 6.545113e-13 | 1.8950692 | 3.315805 |\n",
       "\n"
      ],
      "text/plain": [
       "  term         estimate  std.error statistic p.value      conf.low  conf.high\n",
       "3 education2:1 0.5711561 0.2205790 2.589350  9.615734e-03 0.1388293 1.003483 \n",
       "4 education2:2 0.8779383 0.3918238 2.240646  2.504903e-02 0.1099778 1.645899 \n",
       "5 education3:1 0.8244887 0.2165056 3.808163  1.400032e-04 0.4001454 1.248832 \n",
       "6 education3:2 1.6547451 0.3728691 4.437872  9.085274e-06 0.9239351 2.385555 \n",
       "7 education4:1 1.0540631 0.2134275 4.938742  7.862831e-07 0.6357530 1.472373 \n",
       "8 education4:2 2.6054372 0.3624393 7.188616  6.545113e-13 1.8950692 3.315805 "
      ]
     },
     "metadata": {},
     "output_type": "display_data"
    }
   ],
   "source": [
    "summary_multinomial_model4 <- tidy.vglm(multinomial_model4,\n",
    "  conf.int = TRUE, conf.level = 0.95\n",
    ") \n",
    "summary_multinomial_model4[3:8,]"
   ]
  },
  {
   "cell_type": "markdown",
   "id": "54d204d2-2b4f-4c98-9ef3-27035b010ad5",
   "metadata": {},
   "source": [
    "This shows statistically significant association between all levels of education and uuse of both short and long term contraception."
   ]
  },
  {
   "cell_type": "code",
   "execution_count": 20,
   "id": "3e70876b-7369-4da3-b14f-25784c23aa93",
   "metadata": {},
   "outputs": [
    {
     "data": {
      "text/html": [
       "<table class=\"dataframe\">\n",
       "<caption>A tibble: 6 × 3</caption>\n",
       "<thead>\n",
       "\t<tr><th scope=col>term</th><th scope=col>estimate</th><th scope=col>exp.estimate</th></tr>\n",
       "\t<tr><th scope=col>&lt;chr&gt;</th><th scope=col>&lt;dbl&gt;</th><th scope=col>&lt;dbl&gt;</th></tr>\n",
       "</thead>\n",
       "<tbody>\n",
       "\t<tr><td>education2:1</td><td>0.5711561</td><td> 1.77</td></tr>\n",
       "\t<tr><td>education2:2</td><td>0.8779383</td><td> 2.41</td></tr>\n",
       "\t<tr><td>education3:1</td><td>0.8244887</td><td> 2.28</td></tr>\n",
       "\t<tr><td>education3:2</td><td>1.6547451</td><td> 5.23</td></tr>\n",
       "\t<tr><td>education4:1</td><td>1.0540631</td><td> 2.87</td></tr>\n",
       "\t<tr><td>education4:2</td><td>2.6054372</td><td>13.54</td></tr>\n",
       "</tbody>\n",
       "</table>\n"
      ],
      "text/latex": [
       "A tibble: 6 × 3\n",
       "\\begin{tabular}{lll}\n",
       " term & estimate & exp.estimate\\\\\n",
       " <chr> & <dbl> & <dbl>\\\\\n",
       "\\hline\n",
       "\t education2:1 & 0.5711561 &  1.77\\\\\n",
       "\t education2:2 & 0.8779383 &  2.41\\\\\n",
       "\t education3:1 & 0.8244887 &  2.28\\\\\n",
       "\t education3:2 & 1.6547451 &  5.23\\\\\n",
       "\t education4:1 & 1.0540631 &  2.87\\\\\n",
       "\t education4:2 & 2.6054372 & 13.54\\\\\n",
       "\\end{tabular}\n"
      ],
      "text/markdown": [
       "\n",
       "A tibble: 6 × 3\n",
       "\n",
       "| term &lt;chr&gt; | estimate &lt;dbl&gt; | exp.estimate &lt;dbl&gt; |\n",
       "|---|---|---|\n",
       "| education2:1 | 0.5711561 |  1.77 |\n",
       "| education2:2 | 0.8779383 |  2.41 |\n",
       "| education3:1 | 0.8244887 |  2.28 |\n",
       "| education3:2 | 1.6547451 |  5.23 |\n",
       "| education4:1 | 1.0540631 |  2.87 |\n",
       "| education4:2 | 2.6054372 | 13.54 |\n",
       "\n"
      ],
      "text/plain": [
       "  term         estimate  exp.estimate\n",
       "1 education2:1 0.5711561  1.77       \n",
       "2 education2:2 0.8779383  2.41       \n",
       "3 education3:1 0.8244887  2.28       \n",
       "4 education3:2 1.6547451  5.23       \n",
       "5 education4:1 1.0540631  2.87       \n",
       "6 education4:2 2.6054372 13.54       "
      ]
     },
     "metadata": {},
     "output_type": "display_data"
    }
   ],
   "source": [
    "tibble(summary_multinomial_model4[3:8, 1:2], exp.estimate = round(exp(summary_multinomial_model4[3:8, 2]), 2))\n"
   ]
  },
  {
   "cell_type": "markdown",
   "id": "1a0f3d45-2eb5-4680-9b72-ba2fcb6f472a",
   "metadata": {},
   "source": [
    "- A woman with medium-low (`2`) level of education is 1.77 times more likely than a woman with low(`1`) level of education to use long term contraception and 2.41 times more likely to use short term contraception as opposed to no contraception.\n",
    "\n",
    "- A woman with medium-high (`3`) level of education is 2.28 times more likely than a woman with low(`1`) level of education to use long term contraception and 5.23 times more likely to use short term contraception as opposed to no contraception.\n",
    "\n",
    "- A woman with high (`4`) level of education is 2.87 times more likely than a woman with low(`1`) level of education to use long term contraception and 13.54 times more likely to use short term contraception as opposed to no contraception."
   ]
  },
  {
   "cell_type": "markdown",
   "id": "b7f89603-47c5-4b93-b790-a4e30a760245",
   "metadata": {},
   "source": [
    "#### `work`"
   ]
  },
  {
   "cell_type": "code",
   "execution_count": 21,
   "id": "e876a9d5-4292-438f-9c12-8cbdf43f186b",
   "metadata": {},
   "outputs": [],
   "source": [
    "multinomial_model5 <- vglm(contraceptive_method ~ work, \n",
    "                           family = multinomial, \n",
    "                           data = df)"
   ]
  },
  {
   "cell_type": "code",
   "execution_count": 22,
   "id": "712aff8b-3755-4b60-b2f4-ec48b9323581",
   "metadata": {},
   "outputs": [
    {
     "data": {
      "text/html": [
       "<table class=\"dataframe\">\n",
       "<caption>A data.frame: 4 × 7</caption>\n",
       "<thead>\n",
       "\t<tr><th scope=col>term</th><th scope=col>estimate</th><th scope=col>std.error</th><th scope=col>statistic</th><th scope=col>p.value</th><th scope=col>conf.low</th><th scope=col>conf.high</th></tr>\n",
       "\t<tr><th scope=col>&lt;chr&gt;</th><th scope=col>&lt;dbl&gt;</th><th scope=col>&lt;dbl&gt;</th><th scope=col>&lt;dbl&gt;</th><th scope=col>&lt;dbl&gt;</th><th scope=col>&lt;dbl&gt;</th><th scope=col>&lt;dbl&gt;</th></tr>\n",
       "</thead>\n",
       "<tbody>\n",
       "\t<tr><td>(Intercept):1</td><td>-0.43531807</td><td>0.1223653</td><td>-3.55752930</td><td>3.743593e-04</td><td>-0.67514961</td><td>-0.1954865</td></tr>\n",
       "\t<tr><td>(Intercept):2</td><td>-0.64716207</td><td>0.1308370</td><td>-4.94632484</td><td>7.562772e-07</td><td>-0.90359778</td><td>-0.3907264</td></tr>\n",
       "\t<tr><td>work1:1      </td><td> 0.30022929</td><td>0.1401630</td><td> 2.14200045</td><td>3.219345e-02</td><td> 0.02551478</td><td> 0.5749438</td></tr>\n",
       "\t<tr><td>work1:2      </td><td> 0.01528008</td><td>0.1529553</td><td> 0.09989902</td><td>9.204245e-01</td><td>-0.28450676</td><td> 0.3150669</td></tr>\n",
       "</tbody>\n",
       "</table>\n"
      ],
      "text/latex": [
       "A data.frame: 4 × 7\n",
       "\\begin{tabular}{lllllll}\n",
       " term & estimate & std.error & statistic & p.value & conf.low & conf.high\\\\\n",
       " <chr> & <dbl> & <dbl> & <dbl> & <dbl> & <dbl> & <dbl>\\\\\n",
       "\\hline\n",
       "\t (Intercept):1 & -0.43531807 & 0.1223653 & -3.55752930 & 3.743593e-04 & -0.67514961 & -0.1954865\\\\\n",
       "\t (Intercept):2 & -0.64716207 & 0.1308370 & -4.94632484 & 7.562772e-07 & -0.90359778 & -0.3907264\\\\\n",
       "\t work1:1       &  0.30022929 & 0.1401630 &  2.14200045 & 3.219345e-02 &  0.02551478 &  0.5749438\\\\\n",
       "\t work1:2       &  0.01528008 & 0.1529553 &  0.09989902 & 9.204245e-01 & -0.28450676 &  0.3150669\\\\\n",
       "\\end{tabular}\n"
      ],
      "text/markdown": [
       "\n",
       "A data.frame: 4 × 7\n",
       "\n",
       "| term &lt;chr&gt; | estimate &lt;dbl&gt; | std.error &lt;dbl&gt; | statistic &lt;dbl&gt; | p.value &lt;dbl&gt; | conf.low &lt;dbl&gt; | conf.high &lt;dbl&gt; |\n",
       "|---|---|---|---|---|---|---|\n",
       "| (Intercept):1 | -0.43531807 | 0.1223653 | -3.55752930 | 3.743593e-04 | -0.67514961 | -0.1954865 |\n",
       "| (Intercept):2 | -0.64716207 | 0.1308370 | -4.94632484 | 7.562772e-07 | -0.90359778 | -0.3907264 |\n",
       "| work1:1       |  0.30022929 | 0.1401630 |  2.14200045 | 3.219345e-02 |  0.02551478 |  0.5749438 |\n",
       "| work1:2       |  0.01528008 | 0.1529553 |  0.09989902 | 9.204245e-01 | -0.28450676 |  0.3150669 |\n",
       "\n"
      ],
      "text/plain": [
       "  term          estimate    std.error statistic   p.value      conf.low   \n",
       "1 (Intercept):1 -0.43531807 0.1223653 -3.55752930 3.743593e-04 -0.67514961\n",
       "2 (Intercept):2 -0.64716207 0.1308370 -4.94632484 7.562772e-07 -0.90359778\n",
       "3 work1:1        0.30022929 0.1401630  2.14200045 3.219345e-02  0.02551478\n",
       "4 work1:2        0.01528008 0.1529553  0.09989902 9.204245e-01 -0.28450676\n",
       "  conf.high \n",
       "1 -0.1954865\n",
       "2 -0.3907264\n",
       "3  0.5749438\n",
       "4  0.3150669"
      ]
     },
     "metadata": {},
     "output_type": "display_data"
    }
   ],
   "source": [
    "summary_multinomial_model5 <- tidy.vglm(multinomial_model5,\n",
    "  conf.int = TRUE, conf.level = 0.95\n",
    ") \n",
    "summary_multinomial_model5"
   ]
  },
  {
   "cell_type": "code",
   "execution_count": 23,
   "id": "c672ca02-3800-450f-818c-afa961ce789b",
   "metadata": {},
   "outputs": [
    {
     "data": {
      "text/html": [
       "<table class=\"dataframe\">\n",
       "<caption>A tibble: 1 × 3</caption>\n",
       "<thead>\n",
       "\t<tr><th scope=col>term</th><th scope=col>estimate</th><th scope=col>exp.estimate</th></tr>\n",
       "\t<tr><th scope=col>&lt;chr&gt;</th><th scope=col>&lt;dbl&gt;</th><th scope=col>&lt;dbl&gt;</th></tr>\n",
       "</thead>\n",
       "<tbody>\n",
       "\t<tr><td>work1:1</td><td>0.3002293</td><td>1.35</td></tr>\n",
       "</tbody>\n",
       "</table>\n"
      ],
      "text/latex": [
       "A tibble: 1 × 3\n",
       "\\begin{tabular}{lll}\n",
       " term & estimate & exp.estimate\\\\\n",
       " <chr> & <dbl> & <dbl>\\\\\n",
       "\\hline\n",
       "\t work1:1 & 0.3002293 & 1.35\\\\\n",
       "\\end{tabular}\n"
      ],
      "text/markdown": [
       "\n",
       "A tibble: 1 × 3\n",
       "\n",
       "| term &lt;chr&gt; | estimate &lt;dbl&gt; | exp.estimate &lt;dbl&gt; |\n",
       "|---|---|---|\n",
       "| work1:1 | 0.3002293 | 1.35 |\n",
       "\n"
      ],
      "text/plain": [
       "  term    estimate  exp.estimate\n",
       "1 work1:1 0.3002293 1.35        "
      ]
     },
     "metadata": {},
     "output_type": "display_data"
    }
   ],
   "source": [
    "tibble(summary_multinomial_model5[3, 1:2], exp.estimate = round(exp(summary_multinomial_model5[3, 2]), 2))\n"
   ]
  },
  {
   "cell_type": "markdown",
   "id": "745081d1-f124-4040-a5ed-a213387baa15",
   "metadata": {},
   "source": [
    "There is statistical association between work and long term contraception. The association can be quantified as: A woman who works is 1.35 times more likely than the one who doesn't to use long term contraception as opposed to no contraception."
   ]
  },
  {
   "cell_type": "markdown",
   "id": "421ce7d0-61ed-43bd-aef0-f133cf4518db",
   "metadata": {},
   "source": [
    "#### `living_standard`"
   ]
  },
  {
   "cell_type": "code",
   "execution_count": 24,
   "id": "e67db817-c34b-4f79-a8bb-b6da8d29bef6",
   "metadata": {},
   "outputs": [],
   "source": [
    "multinomial_model6 <- vglm(contraceptive_method ~ living_standard, \n",
    "                           family = multinomial, \n",
    "                           data = df)"
   ]
  },
  {
   "cell_type": "code",
   "execution_count": 30,
   "id": "1b2ae339-3af9-4bcf-b4bc-b1756c4f64fc",
   "metadata": {},
   "outputs": [
    {
     "data": {
      "text/html": [
       "<table class=\"dataframe\">\n",
       "<caption>A data.frame: 8 × 7</caption>\n",
       "<thead>\n",
       "\t<tr><th scope=col>term</th><th scope=col>estimate</th><th scope=col>std.error</th><th scope=col>statistic</th><th scope=col>p.value</th><th scope=col>conf.low</th><th scope=col>conf.high</th></tr>\n",
       "\t<tr><th scope=col>&lt;chr&gt;</th><th scope=col>&lt;dbl&gt;</th><th scope=col>&lt;dbl&gt;</th><th scope=col>&lt;dbl&gt;</th><th scope=col>&lt;dbl&gt;</th><th scope=col>&lt;dbl&gt;</th><th scope=col>&lt;dbl&gt;</th></tr>\n",
       "</thead>\n",
       "<tbody>\n",
       "\t<tr><td>(Intercept):1     </td><td>-0.6931472</td><td>0.1936493</td><td>-3.579395</td><td>3.443906e-04</td><td>-1.0726928</td><td>-0.3136016</td></tr>\n",
       "\t<tr><td>(Intercept):2     </td><td>-2.1848021</td><td>0.3515817</td><td>-6.214208</td><td>5.158405e-10</td><td>-2.8738896</td><td>-1.4957145</td></tr>\n",
       "\t<tr><td>living_standard2:1</td><td> 0.3376925</td><td>0.2413341</td><td> 1.399274</td><td>1.617309e-01</td><td>-0.1353137</td><td> 0.8106987</td></tr>\n",
       "\t<tr><td>⋮</td><td>⋮</td><td>⋮</td><td>⋮</td><td>⋮</td><td>⋮</td><td>⋮</td></tr>\n",
       "\t<tr><td>living_standard3:2</td><td>1.4696760</td><td>0.3743736</td><td>3.925693</td><td>8.648029e-05</td><td>0.7359172</td><td>2.203435</td></tr>\n",
       "\t<tr><td>living_standard4:1</td><td>0.6264558</td><td>0.2141089</td><td>2.925874</td><td>3.434899e-03</td><td>0.2068100</td><td>1.046102</td></tr>\n",
       "\t<tr><td>living_standard4:2</td><td>1.9894933</td><td>0.3640658</td><td>5.464653</td><td>4.638139e-08</td><td>1.2759374</td><td>2.703049</td></tr>\n",
       "</tbody>\n",
       "</table>\n"
      ],
      "text/latex": [
       "A data.frame: 8 × 7\n",
       "\\begin{tabular}{lllllll}\n",
       " term & estimate & std.error & statistic & p.value & conf.low & conf.high\\\\\n",
       " <chr> & <dbl> & <dbl> & <dbl> & <dbl> & <dbl> & <dbl>\\\\\n",
       "\\hline\n",
       "\t (Intercept):1      & -0.6931472 & 0.1936493 & -3.579395 & 3.443906e-04 & -1.0726928 & -0.3136016\\\\\n",
       "\t (Intercept):2      & -2.1848021 & 0.3515817 & -6.214208 & 5.158405e-10 & -2.8738896 & -1.4957145\\\\\n",
       "\t living\\_standard2:1 &  0.3376925 & 0.2413341 &  1.399274 & 1.617309e-01 & -0.1353137 &  0.8106987\\\\\n",
       "\t ⋮ & ⋮ & ⋮ & ⋮ & ⋮ & ⋮ & ⋮\\\\\n",
       "\t living\\_standard3:2 & 1.4696760 & 0.3743736 & 3.925693 & 8.648029e-05 & 0.7359172 & 2.203435\\\\\n",
       "\t living\\_standard4:1 & 0.6264558 & 0.2141089 & 2.925874 & 3.434899e-03 & 0.2068100 & 1.046102\\\\\n",
       "\t living\\_standard4:2 & 1.9894933 & 0.3640658 & 5.464653 & 4.638139e-08 & 1.2759374 & 2.703049\\\\\n",
       "\\end{tabular}\n"
      ],
      "text/markdown": [
       "\n",
       "A data.frame: 8 × 7\n",
       "\n",
       "| term &lt;chr&gt; | estimate &lt;dbl&gt; | std.error &lt;dbl&gt; | statistic &lt;dbl&gt; | p.value &lt;dbl&gt; | conf.low &lt;dbl&gt; | conf.high &lt;dbl&gt; |\n",
       "|---|---|---|---|---|---|---|\n",
       "| (Intercept):1      | -0.6931472 | 0.1936493 | -3.579395 | 3.443906e-04 | -1.0726928 | -0.3136016 |\n",
       "| (Intercept):2      | -2.1848021 | 0.3515817 | -6.214208 | 5.158405e-10 | -2.8738896 | -1.4957145 |\n",
       "| living_standard2:1 |  0.3376925 | 0.2413341 |  1.399274 | 1.617309e-01 | -0.1353137 |  0.8106987 |\n",
       "| ⋮ | ⋮ | ⋮ | ⋮ | ⋮ | ⋮ | ⋮ |\n",
       "| living_standard3:2 | 1.4696760 | 0.3743736 | 3.925693 | 8.648029e-05 | 0.7359172 | 2.203435 |\n",
       "| living_standard4:1 | 0.6264558 | 0.2141089 | 2.925874 | 3.434899e-03 | 0.2068100 | 1.046102 |\n",
       "| living_standard4:2 | 1.9894933 | 0.3640658 | 5.464653 | 4.638139e-08 | 1.2759374 | 2.703049 |\n",
       "\n"
      ],
      "text/plain": [
       "  term               estimate   std.error statistic p.value      conf.low  \n",
       "1 (Intercept):1      -0.6931472 0.1936493 -3.579395 3.443906e-04 -1.0726928\n",
       "2 (Intercept):2      -2.1848021 0.3515817 -6.214208 5.158405e-10 -2.8738896\n",
       "3 living_standard2:1  0.3376925 0.2413341  1.399274 1.617309e-01 -0.1353137\n",
       "⋮ ⋮                  ⋮          ⋮         ⋮         ⋮            ⋮         \n",
       "6 living_standard3:2 1.4696760  0.3743736 3.925693  8.648029e-05 0.7359172 \n",
       "7 living_standard4:1 0.6264558  0.2141089 2.925874  3.434899e-03 0.2068100 \n",
       "8 living_standard4:2 1.9894933  0.3640658 5.464653  4.638139e-08 1.2759374 \n",
       "  conf.high \n",
       "1 -0.3136016\n",
       "2 -1.4957145\n",
       "3  0.8106987\n",
       "⋮ ⋮         \n",
       "6 2.203435  \n",
       "7 1.046102  \n",
       "8 2.703049  "
      ]
     },
     "metadata": {},
     "output_type": "display_data"
    }
   ],
   "source": [
    "summary_multinomial_model6 <- tidy.vglm(multinomial_model6,\n",
    "  conf.int = TRUE, conf.level = 0.95\n",
    ") \n",
    "summary_multinomial_model6"
   ]
  },
  {
   "cell_type": "code",
   "execution_count": 31,
   "id": "639bfceb-f21a-4f17-a3b2-128fbc17edc9",
   "metadata": {},
   "outputs": [
    {
     "data": {
      "text/html": [
       "<table class=\"dataframe\">\n",
       "<caption>A tibble: 5 × 3</caption>\n",
       "<thead>\n",
       "\t<tr><th scope=col>term</th><th scope=col>estimate</th><th scope=col>exp.estimate</th></tr>\n",
       "\t<tr><th scope=col>&lt;chr&gt;</th><th scope=col>&lt;dbl&gt;</th><th scope=col>&lt;dbl&gt;</th></tr>\n",
       "</thead>\n",
       "<tbody>\n",
       "\t<tr><td>living_standard2:2</td><td>0.8238255</td><td>2.28</td></tr>\n",
       "\t<tr><td>living_standard3:1</td><td>0.5344572</td><td>1.71</td></tr>\n",
       "\t<tr><td>living_standard3:2</td><td>1.4696760</td><td>4.35</td></tr>\n",
       "\t<tr><td>living_standard4:1</td><td>0.6264558</td><td>1.87</td></tr>\n",
       "\t<tr><td>living_standard4:2</td><td>1.9894933</td><td>7.31</td></tr>\n",
       "</tbody>\n",
       "</table>\n"
      ],
      "text/latex": [
       "A tibble: 5 × 3\n",
       "\\begin{tabular}{lll}\n",
       " term & estimate & exp.estimate\\\\\n",
       " <chr> & <dbl> & <dbl>\\\\\n",
       "\\hline\n",
       "\t living\\_standard2:2 & 0.8238255 & 2.28\\\\\n",
       "\t living\\_standard3:1 & 0.5344572 & 1.71\\\\\n",
       "\t living\\_standard3:2 & 1.4696760 & 4.35\\\\\n",
       "\t living\\_standard4:1 & 0.6264558 & 1.87\\\\\n",
       "\t living\\_standard4:2 & 1.9894933 & 7.31\\\\\n",
       "\\end{tabular}\n"
      ],
      "text/markdown": [
       "\n",
       "A tibble: 5 × 3\n",
       "\n",
       "| term &lt;chr&gt; | estimate &lt;dbl&gt; | exp.estimate &lt;dbl&gt; |\n",
       "|---|---|---|\n",
       "| living_standard2:2 | 0.8238255 | 2.28 |\n",
       "| living_standard3:1 | 0.5344572 | 1.71 |\n",
       "| living_standard3:2 | 1.4696760 | 4.35 |\n",
       "| living_standard4:1 | 0.6264558 | 1.87 |\n",
       "| living_standard4:2 | 1.9894933 | 7.31 |\n",
       "\n"
      ],
      "text/plain": [
       "  term               estimate  exp.estimate\n",
       "1 living_standard2:2 0.8238255 2.28        \n",
       "2 living_standard3:1 0.5344572 1.71        \n",
       "3 living_standard3:2 1.4696760 4.35        \n",
       "4 living_standard4:1 0.6264558 1.87        \n",
       "5 living_standard4:2 1.9894933 7.31        "
      ]
     },
     "metadata": {},
     "output_type": "display_data"
    }
   ],
   "source": [
    "tibble(summary_multinomial_model6[4:8, 1:2], exp.estimate = round(exp(summary_multinomial_model6[4:8, 2]), 2))\n"
   ]
  },
  {
   "cell_type": "markdown",
   "id": "376ff5e2-1473-4765-a3d0-98c42a6aabb0",
   "metadata": {},
   "source": [
    "### Multinomial Logistic regression - multiple regression"
   ]
  },
  {
   "cell_type": "markdown",
   "id": "20c5137e-6266-417d-91d4-dfe651a94173",
   "metadata": {},
   "source": [
    "Let us try a more complex model  with additive interaction terms including multiple regressors. For ease of understanding, we shall skip using the full model with all the regressors. "
   ]
  },
  {
   "cell_type": "code",
   "execution_count": 26,
   "id": "0c3077df-b317-448c-9b3d-21a08ea05a8b",
   "metadata": {},
   "outputs": [
    {
     "data": {
      "text/html": [
       "<table class=\"dataframe\">\n",
       "<caption>A data.frame: 6 × 7</caption>\n",
       "<thead>\n",
       "\t<tr><th></th><th scope=col>term</th><th scope=col>estimate</th><th scope=col>std.error</th><th scope=col>statistic</th><th scope=col>p.value</th><th scope=col>conf.low</th><th scope=col>conf.high</th></tr>\n",
       "\t<tr><th></th><th scope=col>&lt;chr&gt;</th><th scope=col>&lt;dbl&gt;</th><th scope=col>&lt;dbl&gt;</th><th scope=col>&lt;dbl&gt;</th><th scope=col>&lt;dbl&gt;</th><th scope=col>&lt;dbl&gt;</th><th scope=col>&lt;dbl&gt;</th></tr>\n",
       "</thead>\n",
       "<tbody>\n",
       "\t<tr><th scope=row>3</th><td>living_standard2:1</td><td>0.3977553</td><td>0.2560965</td><td>1.553146</td><td>0.120388163</td><td>-0.10418455</td><td>0.8996952</td></tr>\n",
       "\t<tr><th scope=row>4</th><td>living_standard2:2</td><td>0.5723235</td><td>0.4227399</td><td>1.353843</td><td>0.175786406</td><td>-0.25623142</td><td>1.4008784</td></tr>\n",
       "\t<tr><th scope=row>5</th><td>living_standard3:1</td><td>0.4968886</td><td>0.2419165</td><td>2.053968</td><td>0.039978832</td><td> 0.02274101</td><td>0.9710362</td></tr>\n",
       "\t<tr><th scope=row>6</th><td>living_standard3:2</td><td>0.9442217</td><td>0.3950509</td><td>2.390127</td><td>0.016842549</td><td> 0.16993626</td><td>1.7185072</td></tr>\n",
       "\t<tr><th scope=row>7</th><td>living_standard4:1</td><td>0.7283807</td><td>0.2428568</td><td>2.999219</td><td>0.002706723</td><td> 0.25239022</td><td>1.2043713</td></tr>\n",
       "\t<tr><th scope=row>8</th><td>living_standard4:2</td><td>1.2392430</td><td>0.3939765</td><td>3.145474</td><td>0.001658178</td><td> 0.46706320</td><td>2.0114227</td></tr>\n",
       "</tbody>\n",
       "</table>\n"
      ],
      "text/latex": [
       "A data.frame: 6 × 7\n",
       "\\begin{tabular}{r|lllllll}\n",
       "  & term & estimate & std.error & statistic & p.value & conf.low & conf.high\\\\\n",
       "  & <chr> & <dbl> & <dbl> & <dbl> & <dbl> & <dbl> & <dbl>\\\\\n",
       "\\hline\n",
       "\t3 & living\\_standard2:1 & 0.3977553 & 0.2560965 & 1.553146 & 0.120388163 & -0.10418455 & 0.8996952\\\\\n",
       "\t4 & living\\_standard2:2 & 0.5723235 & 0.4227399 & 1.353843 & 0.175786406 & -0.25623142 & 1.4008784\\\\\n",
       "\t5 & living\\_standard3:1 & 0.4968886 & 0.2419165 & 2.053968 & 0.039978832 &  0.02274101 & 0.9710362\\\\\n",
       "\t6 & living\\_standard3:2 & 0.9442217 & 0.3950509 & 2.390127 & 0.016842549 &  0.16993626 & 1.7185072\\\\\n",
       "\t7 & living\\_standard4:1 & 0.7283807 & 0.2428568 & 2.999219 & 0.002706723 &  0.25239022 & 1.2043713\\\\\n",
       "\t8 & living\\_standard4:2 & 1.2392430 & 0.3939765 & 3.145474 & 0.001658178 &  0.46706320 & 2.0114227\\\\\n",
       "\\end{tabular}\n"
      ],
      "text/markdown": [
       "\n",
       "A data.frame: 6 × 7\n",
       "\n",
       "| <!--/--> | term &lt;chr&gt; | estimate &lt;dbl&gt; | std.error &lt;dbl&gt; | statistic &lt;dbl&gt; | p.value &lt;dbl&gt; | conf.low &lt;dbl&gt; | conf.high &lt;dbl&gt; |\n",
       "|---|---|---|---|---|---|---|---|\n",
       "| 3 | living_standard2:1 | 0.3977553 | 0.2560965 | 1.553146 | 0.120388163 | -0.10418455 | 0.8996952 |\n",
       "| 4 | living_standard2:2 | 0.5723235 | 0.4227399 | 1.353843 | 0.175786406 | -0.25623142 | 1.4008784 |\n",
       "| 5 | living_standard3:1 | 0.4968886 | 0.2419165 | 2.053968 | 0.039978832 |  0.02274101 | 0.9710362 |\n",
       "| 6 | living_standard3:2 | 0.9442217 | 0.3950509 | 2.390127 | 0.016842549 |  0.16993626 | 1.7185072 |\n",
       "| 7 | living_standard4:1 | 0.7283807 | 0.2428568 | 2.999219 | 0.002706723 |  0.25239022 | 1.2043713 |\n",
       "| 8 | living_standard4:2 | 1.2392430 | 0.3939765 | 3.145474 | 0.001658178 |  0.46706320 | 2.0114227 |\n",
       "\n"
      ],
      "text/plain": [
       "  term               estimate  std.error statistic p.value     conf.low   \n",
       "3 living_standard2:1 0.3977553 0.2560965 1.553146  0.120388163 -0.10418455\n",
       "4 living_standard2:2 0.5723235 0.4227399 1.353843  0.175786406 -0.25623142\n",
       "5 living_standard3:1 0.4968886 0.2419165 2.053968  0.039978832  0.02274101\n",
       "6 living_standard3:2 0.9442217 0.3950509 2.390127  0.016842549  0.16993626\n",
       "7 living_standard4:1 0.7283807 0.2428568 2.999219  0.002706723  0.25239022\n",
       "8 living_standard4:2 1.2392430 0.3939765 3.145474  0.001658178  0.46706320\n",
       "  conf.high\n",
       "3 0.8996952\n",
       "4 1.4008784\n",
       "5 0.9710362\n",
       "6 1.7185072\n",
       "7 1.2043713\n",
       "8 2.0114227"
      ]
     },
     "metadata": {},
     "output_type": "display_data"
    },
    {
     "data": {
      "text/html": [
       "<table class=\"dataframe\">\n",
       "<caption>A data.frame: 2 × 7</caption>\n",
       "<thead>\n",
       "\t<tr><th></th><th scope=col>term</th><th scope=col>estimate</th><th scope=col>std.error</th><th scope=col>statistic</th><th scope=col>p.value</th><th scope=col>conf.low</th><th scope=col>conf.high</th></tr>\n",
       "\t<tr><th></th><th scope=col>&lt;chr&gt;</th><th scope=col>&lt;dbl&gt;</th><th scope=col>&lt;dbl&gt;</th><th scope=col>&lt;dbl&gt;</th><th scope=col>&lt;dbl&gt;</th><th scope=col>&lt;dbl&gt;</th><th scope=col>&lt;dbl&gt;</th></tr>\n",
       "</thead>\n",
       "<tbody>\n",
       "\t<tr><th scope=row>9</th><td>age:1</td><td>-0.10802866</td><td>0.01106169</td><td>-9.766014</td><td>1.575275e-22</td><td>-0.12970919</td><td>-0.08634814</td></tr>\n",
       "\t<tr><th scope=row>10</th><td>age:2</td><td>-0.03994496</td><td>0.01178862</td><td>-3.388435</td><td>7.029261e-04</td><td>-0.06305022</td><td>-0.01683970</td></tr>\n",
       "</tbody>\n",
       "</table>\n"
      ],
      "text/latex": [
       "A data.frame: 2 × 7\n",
       "\\begin{tabular}{r|lllllll}\n",
       "  & term & estimate & std.error & statistic & p.value & conf.low & conf.high\\\\\n",
       "  & <chr> & <dbl> & <dbl> & <dbl> & <dbl> & <dbl> & <dbl>\\\\\n",
       "\\hline\n",
       "\t9 & age:1 & -0.10802866 & 0.01106169 & -9.766014 & 1.575275e-22 & -0.12970919 & -0.08634814\\\\\n",
       "\t10 & age:2 & -0.03994496 & 0.01178862 & -3.388435 & 7.029261e-04 & -0.06305022 & -0.01683970\\\\\n",
       "\\end{tabular}\n"
      ],
      "text/markdown": [
       "\n",
       "A data.frame: 2 × 7\n",
       "\n",
       "| <!--/--> | term &lt;chr&gt; | estimate &lt;dbl&gt; | std.error &lt;dbl&gt; | statistic &lt;dbl&gt; | p.value &lt;dbl&gt; | conf.low &lt;dbl&gt; | conf.high &lt;dbl&gt; |\n",
       "|---|---|---|---|---|---|---|---|\n",
       "| 9 | age:1 | -0.10802866 | 0.01106169 | -9.766014 | 1.575275e-22 | -0.12970919 | -0.08634814 |\n",
       "| 10 | age:2 | -0.03994496 | 0.01178862 | -3.388435 | 7.029261e-04 | -0.06305022 | -0.01683970 |\n",
       "\n"
      ],
      "text/plain": [
       "   term  estimate    std.error  statistic p.value      conf.low    conf.high  \n",
       "9  age:1 -0.10802866 0.01106169 -9.766014 1.575275e-22 -0.12970919 -0.08634814\n",
       "10 age:2 -0.03994496 0.01178862 -3.388435 7.029261e-04 -0.06305022 -0.01683970"
      ]
     },
     "metadata": {},
     "output_type": "display_data"
    },
    {
     "data": {
      "text/html": [
       "<table class=\"dataframe\">\n",
       "<caption>A data.frame: 6 × 7</caption>\n",
       "<thead>\n",
       "\t<tr><th></th><th scope=col>term</th><th scope=col>estimate</th><th scope=col>std.error</th><th scope=col>statistic</th><th scope=col>p.value</th><th scope=col>conf.low</th><th scope=col>conf.high</th></tr>\n",
       "\t<tr><th></th><th scope=col>&lt;chr&gt;</th><th scope=col>&lt;dbl&gt;</th><th scope=col>&lt;dbl&gt;</th><th scope=col>&lt;dbl&gt;</th><th scope=col>&lt;dbl&gt;</th><th scope=col>&lt;dbl&gt;</th><th scope=col>&lt;dbl&gt;</th></tr>\n",
       "</thead>\n",
       "<tbody>\n",
       "\t<tr><th scope=row>11</th><td>education2:1</td><td>0.1699925</td><td>0.2525518</td><td>0.6730994</td><td>5.008840e-01</td><td>-0.32499994</td><td>0.6649849</td></tr>\n",
       "\t<tr><th scope=row>12</th><td>education2:2</td><td>0.8579722</td><td>0.4198818</td><td>2.0433659</td><td>4.101623e-02</td><td> 0.03501893</td><td>1.6809255</td></tr>\n",
       "\t<tr><th scope=row>13</th><td>education3:1</td><td>0.4704315</td><td>0.2523657</td><td>1.8640862</td><td>6.230960e-02</td><td>-0.02419627</td><td>0.9650592</td></tr>\n",
       "\t<tr><th scope=row>14</th><td>education3:2</td><td>1.6799719</td><td>0.4071314</td><td>4.1263627</td><td>3.685458e-05</td><td> 0.88200899</td><td>2.4779348</td></tr>\n",
       "\t<tr><th scope=row>15</th><td>education4:1</td><td>0.9764648</td><td>0.2580915</td><td>3.7834055</td><td>1.546971e-04</td><td> 0.47061474</td><td>1.4823148</td></tr>\n",
       "\t<tr><th scope=row>16</th><td>education4:2</td><td>2.6919243</td><td>0.4069113</td><td>6.6155068</td><td>3.702809e-11</td><td> 1.89439286</td><td>3.4894557</td></tr>\n",
       "</tbody>\n",
       "</table>\n"
      ],
      "text/latex": [
       "A data.frame: 6 × 7\n",
       "\\begin{tabular}{r|lllllll}\n",
       "  & term & estimate & std.error & statistic & p.value & conf.low & conf.high\\\\\n",
       "  & <chr> & <dbl> & <dbl> & <dbl> & <dbl> & <dbl> & <dbl>\\\\\n",
       "\\hline\n",
       "\t11 & education2:1 & 0.1699925 & 0.2525518 & 0.6730994 & 5.008840e-01 & -0.32499994 & 0.6649849\\\\\n",
       "\t12 & education2:2 & 0.8579722 & 0.4198818 & 2.0433659 & 4.101623e-02 &  0.03501893 & 1.6809255\\\\\n",
       "\t13 & education3:1 & 0.4704315 & 0.2523657 & 1.8640862 & 6.230960e-02 & -0.02419627 & 0.9650592\\\\\n",
       "\t14 & education3:2 & 1.6799719 & 0.4071314 & 4.1263627 & 3.685458e-05 &  0.88200899 & 2.4779348\\\\\n",
       "\t15 & education4:1 & 0.9764648 & 0.2580915 & 3.7834055 & 1.546971e-04 &  0.47061474 & 1.4823148\\\\\n",
       "\t16 & education4:2 & 2.6919243 & 0.4069113 & 6.6155068 & 3.702809e-11 &  1.89439286 & 3.4894557\\\\\n",
       "\\end{tabular}\n"
      ],
      "text/markdown": [
       "\n",
       "A data.frame: 6 × 7\n",
       "\n",
       "| <!--/--> | term &lt;chr&gt; | estimate &lt;dbl&gt; | std.error &lt;dbl&gt; | statistic &lt;dbl&gt; | p.value &lt;dbl&gt; | conf.low &lt;dbl&gt; | conf.high &lt;dbl&gt; |\n",
       "|---|---|---|---|---|---|---|---|\n",
       "| 11 | education2:1 | 0.1699925 | 0.2525518 | 0.6730994 | 5.008840e-01 | -0.32499994 | 0.6649849 |\n",
       "| 12 | education2:2 | 0.8579722 | 0.4198818 | 2.0433659 | 4.101623e-02 |  0.03501893 | 1.6809255 |\n",
       "| 13 | education3:1 | 0.4704315 | 0.2523657 | 1.8640862 | 6.230960e-02 | -0.02419627 | 0.9650592 |\n",
       "| 14 | education3:2 | 1.6799719 | 0.4071314 | 4.1263627 | 3.685458e-05 |  0.88200899 | 2.4779348 |\n",
       "| 15 | education4:1 | 0.9764648 | 0.2580915 | 3.7834055 | 1.546971e-04 |  0.47061474 | 1.4823148 |\n",
       "| 16 | education4:2 | 2.6919243 | 0.4069113 | 6.6155068 | 3.702809e-11 |  1.89439286 | 3.4894557 |\n",
       "\n"
      ],
      "text/plain": [
       "   term         estimate  std.error statistic p.value      conf.low   \n",
       "11 education2:1 0.1699925 0.2525518 0.6730994 5.008840e-01 -0.32499994\n",
       "12 education2:2 0.8579722 0.4198818 2.0433659 4.101623e-02  0.03501893\n",
       "13 education3:1 0.4704315 0.2523657 1.8640862 6.230960e-02 -0.02419627\n",
       "14 education3:2 1.6799719 0.4071314 4.1263627 3.685458e-05  0.88200899\n",
       "15 education4:1 0.9764648 0.2580915 3.7834055 1.546971e-04  0.47061474\n",
       "16 education4:2 2.6919243 0.4069113 6.6155068 3.702809e-11  1.89439286\n",
       "   conf.high\n",
       "11 0.6649849\n",
       "12 1.6809255\n",
       "13 0.9650592\n",
       "14 2.4779348\n",
       "15 1.4823148\n",
       "16 3.4894557"
      ]
     },
     "metadata": {},
     "output_type": "display_data"
    },
    {
     "data": {
      "text/html": [
       "<table class=\"dataframe\">\n",
       "<caption>A data.frame: 6 × 7</caption>\n",
       "<thead>\n",
       "\t<tr><th></th><th scope=col>term</th><th scope=col>estimate</th><th scope=col>std.error</th><th scope=col>statistic</th><th scope=col>p.value</th><th scope=col>conf.low</th><th scope=col>conf.high</th></tr>\n",
       "\t<tr><th></th><th scope=col>&lt;chr&gt;</th><th scope=col>&lt;dbl&gt;</th><th scope=col>&lt;dbl&gt;</th><th scope=col>&lt;dbl&gt;</th><th scope=col>&lt;dbl&gt;</th><th scope=col>&lt;dbl&gt;</th><th scope=col>&lt;dbl&gt;</th></tr>\n",
       "</thead>\n",
       "<tbody>\n",
       "\t<tr><th scope=row>17</th><td>media_exposure1:1</td><td>-0.55759987</td><td>0.27923384</td><td>-1.9968922</td><td>4.583689e-02</td><td>-1.1048881</td><td>-0.01031161</td></tr>\n",
       "\t<tr><th scope=row>18</th><td>media_exposure1:2</td><td>-0.38159730</td><td>0.39623823</td><td>-0.9630502</td><td>3.355223e-01</td><td>-1.1582100</td><td> 0.39501535</td></tr>\n",
       "\t<tr><th scope=row>19</th><td>children:1       </td><td> 0.34508436</td><td>0.03804563</td><td> 9.0702766</td><td>1.187152e-19</td><td> 0.2705163</td><td> 0.41965242</td></tr>\n",
       "\t<tr><th scope=row>20</th><td>children:2       </td><td> 0.33203471</td><td>0.04199712</td><td> 7.9061307</td><td>2.655124e-15</td><td> 0.2497219</td><td> 0.41434754</td></tr>\n",
       "\t<tr><th scope=row>21</th><td>work1:1          </td><td> 0.16779980</td><td>0.15020549</td><td> 1.1171349</td><td>2.639367e-01</td><td>-0.1265976</td><td> 0.46219716</td></tr>\n",
       "\t<tr><th scope=row>22</th><td>work1:2          </td><td> 0.02231038</td><td>0.16756276</td><td> 0.1331464</td><td>8.940776e-01</td><td>-0.3061066</td><td> 0.35072737</td></tr>\n",
       "</tbody>\n",
       "</table>\n"
      ],
      "text/latex": [
       "A data.frame: 6 × 7\n",
       "\\begin{tabular}{r|lllllll}\n",
       "  & term & estimate & std.error & statistic & p.value & conf.low & conf.high\\\\\n",
       "  & <chr> & <dbl> & <dbl> & <dbl> & <dbl> & <dbl> & <dbl>\\\\\n",
       "\\hline\n",
       "\t17 & media\\_exposure1:1 & -0.55759987 & 0.27923384 & -1.9968922 & 4.583689e-02 & -1.1048881 & -0.01031161\\\\\n",
       "\t18 & media\\_exposure1:2 & -0.38159730 & 0.39623823 & -0.9630502 & 3.355223e-01 & -1.1582100 &  0.39501535\\\\\n",
       "\t19 & children:1        &  0.34508436 & 0.03804563 &  9.0702766 & 1.187152e-19 &  0.2705163 &  0.41965242\\\\\n",
       "\t20 & children:2        &  0.33203471 & 0.04199712 &  7.9061307 & 2.655124e-15 &  0.2497219 &  0.41434754\\\\\n",
       "\t21 & work1:1           &  0.16779980 & 0.15020549 &  1.1171349 & 2.639367e-01 & -0.1265976 &  0.46219716\\\\\n",
       "\t22 & work1:2           &  0.02231038 & 0.16756276 &  0.1331464 & 8.940776e-01 & -0.3061066 &  0.35072737\\\\\n",
       "\\end{tabular}\n"
      ],
      "text/markdown": [
       "\n",
       "A data.frame: 6 × 7\n",
       "\n",
       "| <!--/--> | term &lt;chr&gt; | estimate &lt;dbl&gt; | std.error &lt;dbl&gt; | statistic &lt;dbl&gt; | p.value &lt;dbl&gt; | conf.low &lt;dbl&gt; | conf.high &lt;dbl&gt; |\n",
       "|---|---|---|---|---|---|---|---|\n",
       "| 17 | media_exposure1:1 | -0.55759987 | 0.27923384 | -1.9968922 | 4.583689e-02 | -1.1048881 | -0.01031161 |\n",
       "| 18 | media_exposure1:2 | -0.38159730 | 0.39623823 | -0.9630502 | 3.355223e-01 | -1.1582100 |  0.39501535 |\n",
       "| 19 | children:1        |  0.34508436 | 0.03804563 |  9.0702766 | 1.187152e-19 |  0.2705163 |  0.41965242 |\n",
       "| 20 | children:2        |  0.33203471 | 0.04199712 |  7.9061307 | 2.655124e-15 |  0.2497219 |  0.41434754 |\n",
       "| 21 | work1:1           |  0.16779980 | 0.15020549 |  1.1171349 | 2.639367e-01 | -0.1265976 |  0.46219716 |\n",
       "| 22 | work1:2           |  0.02231038 | 0.16756276 |  0.1331464 | 8.940776e-01 | -0.3061066 |  0.35072737 |\n",
       "\n"
      ],
      "text/plain": [
       "   term              estimate    std.error  statistic  p.value      conf.low  \n",
       "17 media_exposure1:1 -0.55759987 0.27923384 -1.9968922 4.583689e-02 -1.1048881\n",
       "18 media_exposure1:2 -0.38159730 0.39623823 -0.9630502 3.355223e-01 -1.1582100\n",
       "19 children:1         0.34508436 0.03804563  9.0702766 1.187152e-19  0.2705163\n",
       "20 children:2         0.33203471 0.04199712  7.9061307 2.655124e-15  0.2497219\n",
       "21 work1:1            0.16779980 0.15020549  1.1171349 2.639367e-01 -0.1265976\n",
       "22 work1:2            0.02231038 0.16756276  0.1331464 8.940776e-01 -0.3061066\n",
       "   conf.high  \n",
       "17 -0.01031161\n",
       "18  0.39501535\n",
       "19  0.41965242\n",
       "20  0.41434754\n",
       "21  0.46219716\n",
       "22  0.35072737"
      ]
     },
     "metadata": {},
     "output_type": "display_data"
    }
   ],
   "source": [
    "multinomial_model_full <- vglm(contraceptive_method ~ living_standard + age + education + media_exposure + children + work,\n",
    "                           family = multinomial, \n",
    "                           data = df)\n",
    "\n",
    "summary_multinomial_full <- tidy.vglm(multinomial_model_full,\n",
    "  conf.int = TRUE, conf.level = 0.95\n",
    ") \n",
    "summary_multinomial_full[3:8,]\n",
    "summary_multinomial_full[9:10,]\n",
    "summary_multinomial_full[11:16,]\n",
    "summary_multinomial_full[17:22,]"
   ]
  },
  {
   "cell_type": "markdown",
   "id": "5fc8d115-70d3-4f45-a465-8c1539dc46fa",
   "metadata": {},
   "source": [
    "The multiple regression shows that the there are significant associations between `contraceptive_method` and \n",
    "- high living standard\n",
    "- age\n",
    "- high level of education\n",
    "- number of children"
   ]
  },
  {
   "cell_type": "code",
   "execution_count": null,
   "id": "7e112ba9-e154-4242-92cf-f72188896c32",
   "metadata": {},
   "outputs": [],
   "source": []
  }
 ],
 "metadata": {
  "kernelspec": {
   "display_name": "R",
   "language": "R",
   "name": "ir"
  },
  "language_info": {
   "codemirror_mode": "r",
   "file_extension": ".r",
   "mimetype": "text/x-r-source",
   "name": "R",
   "pygments_lexer": "r",
   "version": "4.2.1"
  }
 },
 "nbformat": 4,
 "nbformat_minor": 5
}
