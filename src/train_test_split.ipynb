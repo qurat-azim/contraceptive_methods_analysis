{
 "cells": [
  {
   "cell_type": "markdown",
   "id": "ef43f188-5c2d-42f3-aea0-03b451cf2e41",
   "metadata": {},
   "source": [
    "# Train-Test Split and writing files"
   ]
  },
  {
   "cell_type": "code",
   "execution_count": 2,
   "id": "bfc84ff9-238b-46e1-bc4c-b36ddf9eb1dc",
   "metadata": {},
   "outputs": [],
   "source": [
    "import pandas as pd\n",
    "from sklearn.model_selection import train_test_split"
   ]
  },
  {
   "cell_type": "code",
   "execution_count": 3,
   "id": "f54fdb5c-015f-4825-974d-0fcf266a25c7",
   "metadata": {},
   "outputs": [],
   "source": [
    "# Load the data\n",
    "df = pd.read_csv('../data/raw/cmc_data.txt',names=['age','education','spouse_education','children',\n",
    "                                                'religion','work','spouse_occupation','living_standard',\n",
    "                                                'media_exposure','contraceptive_method'])"
   ]
  },
  {
   "cell_type": "code",
   "execution_count": 4,
   "id": "2d5ed9af-ae00-40e6-b048-15226458700d",
   "metadata": {},
   "outputs": [],
   "source": [
    "# Train test split\n",
    "train_df, test_df = train_test_split(\n",
    "    df, test_size=0.2, random_state=123)\n"
   ]
  },
  {
   "cell_type": "code",
   "execution_count": 5,
   "id": "b86010ad-e829-4874-a321-8a3bb8cbe4c2",
   "metadata": {},
   "outputs": [],
   "source": [
    "# write data files\n",
    "train_df.to_csv(\"../data/processed/train_data.csv\")\n",
    "test_df.to_csv(\"../data/processed/test_data.csv\")\n",
    "df.to_csv(\"../data/processed/data.csv\")"
   ]
  },
  {
   "cell_type": "code",
   "execution_count": null,
   "id": "0022eff0-136a-47df-9c94-26db233c1d9b",
   "metadata": {},
   "outputs": [],
   "source": []
  }
 ],
 "metadata": {
  "kernelspec": {
   "display_name": "Python [conda env:573]",
   "language": "python",
   "name": "conda-env-573-py"
  },
  "language_info": {
   "codemirror_mode": {
    "name": "ipython",
    "version": 3
   },
   "file_extension": ".py",
   "mimetype": "text/x-python",
   "name": "python",
   "nbconvert_exporter": "python",
   "pygments_lexer": "ipython3",
   "version": "3.10.6"
  }
 },
 "nbformat": 4,
 "nbformat_minor": 5
}
